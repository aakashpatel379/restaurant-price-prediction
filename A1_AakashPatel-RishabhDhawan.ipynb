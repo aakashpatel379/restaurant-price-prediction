{
 "cells": [
  {
   "cell_type": "code",
   "execution_count": 130,
   "metadata": {
    "collapsed": true
   },
   "outputs": [],
   "source": [
    "import numpy as np \n",
    "import pandas as pd \n",
    "import matplotlib.pyplot as plt\n",
    "import seaborn as sns\n",
    "from matplotlib import rcParams"
   ]
  },
  {
   "cell_type": "markdown",
   "metadata": {},
   "source": [
    "**CSCI - 5901 - The Process of Data Science - Summer 2019**\n",
    "**SUBMITTED BY: AAKASH PATEL (B00807065) RISHABH DHAWAN (B00826918)**\n",
    "## ASSIGNMENT 1:\n",
    "\n",
    "## 1.a.\n",
    "The dataset set zomato.csv is uploaded comprising of 12000 various restaurants obtained after cleaning the raw data and have been stored inside a data frame. (accurate up till 15th march,2019). It describes the various establishments of different restaurants across the Bangalore city and plan on analyzing what are the major factors that affect the establishment of a restaurant in the city. The analysis will rely entirely on what are the various attributes involved within the dataset, and how they will affect the rating of a given restaurant. Following are the attributes which have been found in the dataset:\n",
    "\n",
    "#### FEATURE LIST:\n",
    "1.\turl: comprises of the weblink of restaurant on Zomato.\n",
    "2.\tAddress: describes the address of the restaurant in the city\n",
    "3.\tname: name of the restaurant\n",
    "4.\tonline_order: it tell whether the restaurant has the option of ordering online.\n",
    "5.\tbook_table: its describes whether we have the option to book the table.\n",
    "6.\trate: signifies the rating of a given restaurants.\n",
    "7.\tvotes: defines the total number of rating of a restaurant on a stipulated date.\n",
    "8.\tphone: phone number of the restaurant\n",
    "9.\tlocation: tells the neighborhood of the restaurant which will ultimately define its location in the city.\n",
    "10.\trest_type: type of restaurant\n",
    "11.\tdish_liked: favorite dishes of the people in the restaurant.\n",
    "12.\tcuisines: type and styles of food.\n",
    "13.\tapprox_cost(for two people): estimates the cost of eating of two people in a given restaurant.\n",
    "14.\treviews_list: The review list comprises of reviews for a given restaurant. Here each tuple has two sections. One describing the rating and other describing the review written by the customer for that restaurant.\n",
    "15.\tmenu_item: describe the menu list of the items in the restaurant menu\n",
    "16.\tlisted_in(type): meal type\n",
    "17.\tlisted_in(city): comprises of the neighborhood where the restaurant is situated.\n"
   ]
  },
  {
   "cell_type": "code",
   "execution_count": 131,
   "metadata": {
    "collapsed": true
   },
   "outputs": [],
   "source": [
    "df=pd.read_csv(\"E://MACS//Term 2//5901-DSc//DS_Assignment 1//Dataset//zomato-bangalore-restaurants//zomato.csv\")\n",
    "#df=pd.read_csv(\"C://Users//risha//Downloads//zomato.csv\") #zomato.csv data is loaded and read from the local system."
   ]
  },
  {
   "cell_type": "markdown",
   "metadata": {},
   "source": [
    "## 2.a \n",
    " The provided data set(zomato.csv) is loaded  and read fro the local system."
   ]
  },
  {
   "cell_type": "code",
   "execution_count": 132,
   "metadata": {
    "scrolled": true
   },
   "outputs": [
    {
     "data": {
      "text/html": [
       "<div>\n",
       "<style scoped>\n",
       "    .dataframe tbody tr th:only-of-type {\n",
       "        vertical-align: middle;\n",
       "    }\n",
       "\n",
       "    .dataframe tbody tr th {\n",
       "        vertical-align: top;\n",
       "    }\n",
       "\n",
       "    .dataframe thead th {\n",
       "        text-align: right;\n",
       "    }\n",
       "</style>\n",
       "<table border=\"1\" class=\"dataframe\">\n",
       "  <thead>\n",
       "    <tr style=\"text-align: right;\">\n",
       "      <th></th>\n",
       "      <th>url</th>\n",
       "      <th>address</th>\n",
       "      <th>name</th>\n",
       "      <th>online_order</th>\n",
       "      <th>book_table</th>\n",
       "      <th>rate</th>\n",
       "      <th>votes</th>\n",
       "      <th>phone</th>\n",
       "      <th>location</th>\n",
       "      <th>rest_type</th>\n",
       "      <th>dish_liked</th>\n",
       "      <th>cuisines</th>\n",
       "      <th>approx_cost(for two people)</th>\n",
       "      <th>reviews_list</th>\n",
       "      <th>menu_item</th>\n",
       "      <th>listed_in(type)</th>\n",
       "      <th>listed_in(city)</th>\n",
       "    </tr>\n",
       "  </thead>\n",
       "  <tbody>\n",
       "    <tr>\n",
       "      <th>0</th>\n",
       "      <td>https://www.zomato.com/bangalore/jalsa-banasha...</td>\n",
       "      <td>942, 21st Main Road, 2nd Stage, Banashankari, ...</td>\n",
       "      <td>Jalsa</td>\n",
       "      <td>Yes</td>\n",
       "      <td>Yes</td>\n",
       "      <td>4.1/5</td>\n",
       "      <td>775</td>\n",
       "      <td>080 42297555\\r\\n+91 9743772233</td>\n",
       "      <td>Banashankari</td>\n",
       "      <td>Casual Dining</td>\n",
       "      <td>Pasta, Lunch Buffet, Masala Papad, Paneer Laja...</td>\n",
       "      <td>North Indian, Mughlai, Chinese</td>\n",
       "      <td>800</td>\n",
       "      <td>[('Rated 4.0', 'RATED\\n  A beautiful place to ...</td>\n",
       "      <td>[]</td>\n",
       "      <td>Buffet</td>\n",
       "      <td>Banashankari</td>\n",
       "    </tr>\n",
       "    <tr>\n",
       "      <th>1</th>\n",
       "      <td>https://www.zomato.com/bangalore/spice-elephan...</td>\n",
       "      <td>2nd Floor, 80 Feet Road, Near Big Bazaar, 6th ...</td>\n",
       "      <td>Spice Elephant</td>\n",
       "      <td>Yes</td>\n",
       "      <td>No</td>\n",
       "      <td>4.1/5</td>\n",
       "      <td>787</td>\n",
       "      <td>080 41714161</td>\n",
       "      <td>Banashankari</td>\n",
       "      <td>Casual Dining</td>\n",
       "      <td>Momos, Lunch Buffet, Chocolate Nirvana, Thai G...</td>\n",
       "      <td>Chinese, North Indian, Thai</td>\n",
       "      <td>800</td>\n",
       "      <td>[('Rated 4.0', 'RATED\\n  Had been here for din...</td>\n",
       "      <td>[]</td>\n",
       "      <td>Buffet</td>\n",
       "      <td>Banashankari</td>\n",
       "    </tr>\n",
       "    <tr>\n",
       "      <th>2</th>\n",
       "      <td>https://www.zomato.com/SanchurroBangalore?cont...</td>\n",
       "      <td>1112, Next to KIMS Medical College, 17th Cross...</td>\n",
       "      <td>San Churro Cafe</td>\n",
       "      <td>Yes</td>\n",
       "      <td>No</td>\n",
       "      <td>3.8/5</td>\n",
       "      <td>918</td>\n",
       "      <td>+91 9663487993</td>\n",
       "      <td>Banashankari</td>\n",
       "      <td>Cafe, Casual Dining</td>\n",
       "      <td>Churros, Cannelloni, Minestrone Soup, Hot Choc...</td>\n",
       "      <td>Cafe, Mexican, Italian</td>\n",
       "      <td>800</td>\n",
       "      <td>[('Rated 3.0', \"RATED\\n  Ambience is not that ...</td>\n",
       "      <td>[]</td>\n",
       "      <td>Buffet</td>\n",
       "      <td>Banashankari</td>\n",
       "    </tr>\n",
       "    <tr>\n",
       "      <th>3</th>\n",
       "      <td>https://www.zomato.com/bangalore/addhuri-udupi...</td>\n",
       "      <td>1st Floor, Annakuteera, 3rd Stage, Banashankar...</td>\n",
       "      <td>Addhuri Udupi Bhojana</td>\n",
       "      <td>No</td>\n",
       "      <td>No</td>\n",
       "      <td>3.7/5</td>\n",
       "      <td>88</td>\n",
       "      <td>+91 9620009302</td>\n",
       "      <td>Banashankari</td>\n",
       "      <td>Quick Bites</td>\n",
       "      <td>Masala Dosa</td>\n",
       "      <td>South Indian, North Indian</td>\n",
       "      <td>300</td>\n",
       "      <td>[('Rated 4.0', \"RATED\\n  Great food and proper...</td>\n",
       "      <td>[]</td>\n",
       "      <td>Buffet</td>\n",
       "      <td>Banashankari</td>\n",
       "    </tr>\n",
       "    <tr>\n",
       "      <th>4</th>\n",
       "      <td>https://www.zomato.com/bangalore/grand-village...</td>\n",
       "      <td>10, 3rd Floor, Lakshmi Associates, Gandhi Baza...</td>\n",
       "      <td>Grand Village</td>\n",
       "      <td>No</td>\n",
       "      <td>No</td>\n",
       "      <td>3.8/5</td>\n",
       "      <td>166</td>\n",
       "      <td>+91 8026612447\\r\\n+91 9901210005</td>\n",
       "      <td>Basavanagudi</td>\n",
       "      <td>Casual Dining</td>\n",
       "      <td>Panipuri, Gol Gappe</td>\n",
       "      <td>North Indian, Rajasthani</td>\n",
       "      <td>600</td>\n",
       "      <td>[('Rated 4.0', 'RATED\\n  Very good restaurant ...</td>\n",
       "      <td>[]</td>\n",
       "      <td>Buffet</td>\n",
       "      <td>Banashankari</td>\n",
       "    </tr>\n",
       "  </tbody>\n",
       "</table>\n",
       "</div>"
      ],
      "text/plain": [
       "                                                 url  \\\n",
       "0  https://www.zomato.com/bangalore/jalsa-banasha...   \n",
       "1  https://www.zomato.com/bangalore/spice-elephan...   \n",
       "2  https://www.zomato.com/SanchurroBangalore?cont...   \n",
       "3  https://www.zomato.com/bangalore/addhuri-udupi...   \n",
       "4  https://www.zomato.com/bangalore/grand-village...   \n",
       "\n",
       "                                             address                   name  \\\n",
       "0  942, 21st Main Road, 2nd Stage, Banashankari, ...                  Jalsa   \n",
       "1  2nd Floor, 80 Feet Road, Near Big Bazaar, 6th ...         Spice Elephant   \n",
       "2  1112, Next to KIMS Medical College, 17th Cross...        San Churro Cafe   \n",
       "3  1st Floor, Annakuteera, 3rd Stage, Banashankar...  Addhuri Udupi Bhojana   \n",
       "4  10, 3rd Floor, Lakshmi Associates, Gandhi Baza...          Grand Village   \n",
       "\n",
       "  online_order book_table   rate  votes                             phone  \\\n",
       "0          Yes        Yes  4.1/5    775    080 42297555\\r\\n+91 9743772233   \n",
       "1          Yes         No  4.1/5    787                      080 41714161   \n",
       "2          Yes         No  3.8/5    918                    +91 9663487993   \n",
       "3           No         No  3.7/5     88                    +91 9620009302   \n",
       "4           No         No  3.8/5    166  +91 8026612447\\r\\n+91 9901210005   \n",
       "\n",
       "       location            rest_type  \\\n",
       "0  Banashankari        Casual Dining   \n",
       "1  Banashankari        Casual Dining   \n",
       "2  Banashankari  Cafe, Casual Dining   \n",
       "3  Banashankari          Quick Bites   \n",
       "4  Basavanagudi        Casual Dining   \n",
       "\n",
       "                                          dish_liked  \\\n",
       "0  Pasta, Lunch Buffet, Masala Papad, Paneer Laja...   \n",
       "1  Momos, Lunch Buffet, Chocolate Nirvana, Thai G...   \n",
       "2  Churros, Cannelloni, Minestrone Soup, Hot Choc...   \n",
       "3                                        Masala Dosa   \n",
       "4                                Panipuri, Gol Gappe   \n",
       "\n",
       "                         cuisines approx_cost(for two people)  \\\n",
       "0  North Indian, Mughlai, Chinese                         800   \n",
       "1     Chinese, North Indian, Thai                         800   \n",
       "2          Cafe, Mexican, Italian                         800   \n",
       "3      South Indian, North Indian                         300   \n",
       "4        North Indian, Rajasthani                         600   \n",
       "\n",
       "                                        reviews_list menu_item  \\\n",
       "0  [('Rated 4.0', 'RATED\\n  A beautiful place to ...        []   \n",
       "1  [('Rated 4.0', 'RATED\\n  Had been here for din...        []   \n",
       "2  [('Rated 3.0', \"RATED\\n  Ambience is not that ...        []   \n",
       "3  [('Rated 4.0', \"RATED\\n  Great food and proper...        []   \n",
       "4  [('Rated 4.0', 'RATED\\n  Very good restaurant ...        []   \n",
       "\n",
       "  listed_in(type) listed_in(city)  \n",
       "0          Buffet    Banashankari  \n",
       "1          Buffet    Banashankari  \n",
       "2          Buffet    Banashankari  \n",
       "3          Buffet    Banashankari  \n",
       "4          Buffet    Banashankari  "
      ]
     },
     "execution_count": 132,
     "metadata": {},
     "output_type": "execute_result"
    }
   ],
   "source": [
    "df.head() #displays first few data records with respect to ease of visualising the data set."
   ]
  },
  {
   "cell_type": "markdown",
   "metadata": {},
   "source": [
    "## 2.b DATA TRENDS  (ATTRIBUTE SELECTION JUSTIFICATION)\n",
    "Examining the data, it can be inferred that the data trends supporting certain features as the most suitable ones for selection for the designing the model:\n",
    "\n",
    "**Name** \n",
    "This attribute will be identifying the restaurant. Along with the address, it will be used as a composite key for the data set table.\n",
    "\n",
    "**Address**\n",
    "This attribute is very important as it will be eventually used to book the restaurant. Moreover, it will be used by people who want to visit a popular restaurant but need to know the exact location of the restaurant. Later on, name and address will be used together as a composite key for the table data.\n",
    "\n",
    "**Rate** \n",
    "This attribute is an important one with respect to finding the ideal place for two persons to visit as it reflects the people’s analysis who have visited that restaurant. \n",
    "\n",
    "**Listed_in(city)** \n",
    "This attribute is the next important attribute we have considered since the location also largely impact the reason why a restaurant is visited more frequently or not. This will hence replace the cuisine a particular restraunt serves.\n",
    "\n",
    "**Rest_type** \n",
    "This determines how a particular restaurant can determine the population that visits it. Here we see that the quick bites restaurant type is the most famous one and sweet shops are the least popular among the people.\n",
    "\n",
    "**approx_cost**(for two people)\n",
    "Since it defines the monetary aspect of the restaurant, it will be one of the most important factor in determining the type of people (depending on economic status) visiting a particular restaurant.\n",
    "\n",
    "**listed_in**(type)\n",
    "This attribute describes how a meal is served by a restaurant. Since different people have different choice of getting access to their food, they will prefer the restaurant that satisfies their choice. It could be a buffet, delivery,\n"
   ]
  },
  {
   "cell_type": "code",
   "execution_count": 133,
   "metadata": {},
   "outputs": [
    {
     "name": "stdout",
     "output_type": "stream",
     "text": [
      "<class 'pandas.core.frame.DataFrame'>\n",
      "RangeIndex: 51717 entries, 0 to 51716\n",
      "Data columns (total 17 columns):\n",
      "url                            51717 non-null object\n",
      "address                        51717 non-null object\n",
      "name                           51717 non-null object\n",
      "online_order                   51717 non-null object\n",
      "book_table                     51717 non-null object\n",
      "rate                           43942 non-null object\n",
      "votes                          51717 non-null int64\n",
      "phone                          50509 non-null object\n",
      "location                       51696 non-null object\n",
      "rest_type                      51490 non-null object\n",
      "dish_liked                     23639 non-null object\n",
      "cuisines                       51672 non-null object\n",
      "approx_cost(for two people)    51371 non-null object\n",
      "reviews_list                   51717 non-null object\n",
      "menu_item                      51717 non-null object\n",
      "listed_in(type)                51717 non-null object\n",
      "listed_in(city)                51717 non-null object\n",
      "dtypes: int64(1), object(16)\n",
      "memory usage: 6.7+ MB\n"
     ]
    }
   ],
   "source": [
    "df.info()"
   ]
  },
  {
   "cell_type": "code",
   "execution_count": 134,
   "metadata": {},
   "outputs": [
    {
     "name": "stdout",
     "output_type": "stream",
     "text": [
      "              votes\n",
      "count  51717.000000\n",
      "mean     283.697527\n",
      "std      803.838853\n",
      "min        0.000000\n",
      "25%        7.000000\n",
      "50%       41.000000\n",
      "75%      198.000000\n",
      "max    16832.000000\n"
     ]
    }
   ],
   "source": [
    "print(df.describe())"
   ]
  },
  {
   "cell_type": "markdown",
   "metadata": {},
   "source": [
    "### BAR CHARTS OF VARIOUS ATTRIBUTES:"
   ]
  },
  {
   "cell_type": "markdown",
   "metadata": {},
   "source": [
    "### Restaurant Rating Chart-\n",
    "The chart plots the frequency distribution of restaurant rating vs its occurence count(frequency).\n",
    "\n",
    "X-axis: Customer rating.\n",
    "Y-axis: number/count of each rating value. \n"
   ]
  },
  {
   "cell_type": "code",
   "execution_count": 135,
   "metadata": {
    "scrolled": true
   },
   "outputs": [
    {
     "data": {
      "text/plain": [
       "Text(0, 0.5, 'FREQUENCY')"
      ]
     },
     "execution_count": 135,
     "metadata": {},
     "output_type": "execute_result"
    },
    {
     "data": {
      "image/png": "[encoded data removed]",
      "text/plain": [
       "<Figure size 1800x1800 with 1 Axes>"
      ]
     },
     "metadata": {
      "needs_background": "light"
     },
     "output_type": "display_data"
    }
   ],
   "source": [
    "\n",
    "df['rate'].value_counts().plot(kind='bar',figsize=(25,25)) \n",
    "plt.title('rating ATTRIBUTE PLOT-')\n",
    "plt.xlabel('RATING')\n",
    "plt.ylabel('FREQUENCY')\n",
    "\n"
   ]
  },
  {
   "cell_type": "markdown",
   "metadata": {},
   "source": [
    "### Restaurant Location Chart-\n",
    "The chart plots the frequency distribution of restaurant location in the city vs its occurence count(frequency).\n",
    "\n",
    "X-axis: where the restaurant is located in the city\n",
    "Y-axis: frequency "
   ]
  },
  {
   "cell_type": "code",
   "execution_count": 136,
   "metadata": {},
   "outputs": [
    {
     "data": {
      "text/plain": [
       "Text(0, 0.5, 'FREQUENCY')"
      ]
     },
     "execution_count": 136,
     "metadata": {},
     "output_type": "execute_result"
    },
    {
     "data": {
      "image/png": "[encoded data removed]",
      "text/plain": [
       "<Figure size 1800x1800 with 1 Axes>"
      ]
     },
     "metadata": {
      "needs_background": "light"
     },
     "output_type": "display_data"
    }
   ],
   "source": [
    "df['listed_in(city)'].value_counts().plot(kind='bar',figsize=(25,25))\n",
    "plt.title('listed_in(city) ATTRIBUTE PLOT-')\n",
    "plt.xlabel('LOCATION IN CITY')\n",
    "plt.ylabel('FREQUENCY')\n"
   ]
  },
  {
   "cell_type": "markdown",
   "metadata": {},
   "source": [
    "### Restaurant Type/Cuisine Chart-\n",
    "The chart plots the frequency distribution of type of restaurant vs its occurence count(frequency).\n",
    "\n",
    "X-axis: restaurant type\n",
    "Y-axis: frequency"
   ]
  },
  {
   "cell_type": "code",
   "execution_count": 137,
   "metadata": {},
   "outputs": [
    {
     "data": {
      "text/plain": [
       "Text(0, 0.5, 'FREQUENCY')"
      ]
     },
     "execution_count": 137,
     "metadata": {},
     "output_type": "execute_result"
    },
    {
     "data": {
      "image/png": "[encoded data removed]",
      "text/plain": [
       "<Figure size 1440x1440 with 1 Axes>"
      ]
     },
     "metadata": {
      "needs_background": "light"
     },
     "output_type": "display_data"
    }
   ],
   "source": [
    "df['rest_type'].value_counts().plot(kind='bar',figsize=(20,20))\n",
    "plt.title(' rest_type ATTRIBUTE PLOT-')\n",
    "plt.xlabel('RESTAURANT TYPE')\n",
    "plt.ylabel('FREQUENCY')"
   ]
  },
  {
   "cell_type": "markdown",
   "metadata": {},
   "source": [
    "### Restaurant Pricing Chart-\n",
    "The chart plots the frequency distribution of cost of dining (two people) in a restaurant vs its occurence count(frequency).\n",
    "\n",
    "X-axis: cost of dining for two persons\n",
    "Y-axis: frequency "
   ]
  },
  {
   "cell_type": "code",
   "execution_count": 138,
   "metadata": {},
   "outputs": [
    {
     "data": {
      "text/plain": [
       "Text(0, 0.5, 'FREQUENCY')"
      ]
     },
     "execution_count": 138,
     "metadata": {},
     "output_type": "execute_result"
    },
    {
     "data": {
      "image/png": "[encoded data removed]",
      "text/plain": [
       "<Figure size 1440x1440 with 1 Axes>"
      ]
     },
     "metadata": {
      "needs_background": "light"
     },
     "output_type": "display_data"
    }
   ],
   "source": [
    "df['approx_cost(for two people)'].value_counts().plot(kind='bar',figsize=(20,20))\n",
    "plt.title(' approx_cost(for two people) ATTRIBUTE PLOT-')\n",
    "plt.xlabel('approximate cost of dining two people')\n",
    "plt.ylabel('FREQUENCY')"
   ]
  },
  {
   "cell_type": "markdown",
   "metadata": {},
   "source": [
    "### Restaurant  Meal Serving type Chart-\n",
    "The chart plots the frequency distribution of how a meal will be served in a restaurant vs its occurence count(frequency).\n",
    "\n",
    "X-axis: listed\n",
    "Y-axis: number/count of each rating value. "
   ]
  },
  {
   "cell_type": "code",
   "execution_count": 139,
   "metadata": {},
   "outputs": [
    {
     "data": {
      "text/plain": [
       "Text(0, 0.5, 'FREQUENCY')"
      ]
     },
     "execution_count": 139,
     "metadata": {},
     "output_type": "execute_result"
    },
    {
     "data": {
      "image/png": "[encoded data removed]",
      "text/plain": [
       "<Figure size 1440x1440 with 1 Axes>"
      ]
     },
     "metadata": {
      "needs_background": "light"
     },
     "output_type": "display_data"
    }
   ],
   "source": [
    "df['listed_in(type)'].value_counts().plot(kind='bar',figsize=(20,20))\n",
    "plt.title(' listed_in(type) ATTRIBUTE PLOT-')\n",
    "plt.xlabel('method of food serving')\n",
    "plt.ylabel('FREQUENCY')"
   ]
  },
  {
   "cell_type": "code",
   "execution_count": null,
   "metadata": {
    "collapsed": true
   },
   "outputs": [],
   "source": []
  },
  {
   "cell_type": "markdown",
   "metadata": {},
   "source": [
    "## 2.c DROPPED ATTRIBUTES AND REASON FOR DROPPING-\n",
    "\n",
    "**URL** attribute is dropped because in case of certain restaurants that are of same name but located in different locations in the city. They might conflict the way the whole data set is analyzed. Moreover, it increases the data’s structural complexity and due to their unnormalized nature.\n",
    "\n",
    "**Phone** has been removed because with respect to the target variable of finding the ideal place to dine for two people, it won’t serve much importance and will remain irrelevant.\n",
    "\n",
    "**Location** attribute is removed because of its logical conflict with the Listed in(city) attribute, both of which convey the same meaning.\n",
    "\n",
    "**Review_list** attribute is dropped because most of the time people prefer to rate a given restaurant but rarely write reviews about them. This makes this attribute contain allot of blank sections which will ultimately affect the analysis’s accuracy. (However, on thing that can be done is that tagging the reviews based on their sentiment and then using that parameter in designing the models. But this has not been implemented as its out of scope of the task considering a holistic viewpoint of the attributes that will affect the target variable.\n",
    "\n",
    "**Dish_liked** has not been considered as this factor can vary from person to person. Thus, it might be the case that a particular dish is liked by a set of people and then that same dish could be disliked by the other set of people. This makes the attribute vague, considering the broader perspective of the target variable.\n",
    "\n",
    "**Menu_item** has been removed because of the redundancy that occurs when any two same restaurants with different locations will eventually have same menu item list. This will not be very useful with respect to the target variable being addressed.\n"
   ]
  },
  {
   "cell_type": "markdown",
   "metadata": {},
   "source": [
    "## 2.d"
   ]
  },
  {
   "cell_type": "code",
   "execution_count": null,
   "metadata": {
    "collapsed": true
   },
   "outputs": [],
   "source": []
  },
  {
   "cell_type": "code",
   "execution_count": null,
   "metadata": {
    "collapsed": true
   },
   "outputs": [],
   "source": []
  },
  {
   "cell_type": "code",
   "execution_count": 140,
   "metadata": {},
   "outputs": [
    {
     "data": {
      "text/html": [
       "<div>\n",
       "<style scoped>\n",
       "    .dataframe tbody tr th:only-of-type {\n",
       "        vertical-align: middle;\n",
       "    }\n",
       "\n",
       "    .dataframe tbody tr th {\n",
       "        vertical-align: top;\n",
       "    }\n",
       "\n",
       "    .dataframe thead th {\n",
       "        text-align: right;\n",
       "    }\n",
       "</style>\n",
       "<table border=\"1\" class=\"dataframe\">\n",
       "  <thead>\n",
       "    <tr style=\"text-align: right;\">\n",
       "      <th></th>\n",
       "      <th>location</th>\n",
       "      <th>listed_in(city)</th>\n",
       "    </tr>\n",
       "  </thead>\n",
       "  <tbody>\n",
       "    <tr>\n",
       "      <th>0</th>\n",
       "      <td>Banashankari</td>\n",
       "      <td>Banashankari</td>\n",
       "    </tr>\n",
       "    <tr>\n",
       "      <th>1</th>\n",
       "      <td>Banashankari</td>\n",
       "      <td>Banashankari</td>\n",
       "    </tr>\n",
       "    <tr>\n",
       "      <th>2</th>\n",
       "      <td>Banashankari</td>\n",
       "      <td>Banashankari</td>\n",
       "    </tr>\n",
       "    <tr>\n",
       "      <th>3</th>\n",
       "      <td>Banashankari</td>\n",
       "      <td>Banashankari</td>\n",
       "    </tr>\n",
       "    <tr>\n",
       "      <th>4</th>\n",
       "      <td>Basavanagudi</td>\n",
       "      <td>Banashankari</td>\n",
       "    </tr>\n",
       "    <tr>\n",
       "      <th>5</th>\n",
       "      <td>Basavanagudi</td>\n",
       "      <td>Banashankari</td>\n",
       "    </tr>\n",
       "    <tr>\n",
       "      <th>6</th>\n",
       "      <td>Mysore Road</td>\n",
       "      <td>Banashankari</td>\n",
       "    </tr>\n",
       "    <tr>\n",
       "      <th>7</th>\n",
       "      <td>Banashankari</td>\n",
       "      <td>Banashankari</td>\n",
       "    </tr>\n",
       "    <tr>\n",
       "      <th>8</th>\n",
       "      <td>Banashankari</td>\n",
       "      <td>Banashankari</td>\n",
       "    </tr>\n",
       "    <tr>\n",
       "      <th>9</th>\n",
       "      <td>Banashankari</td>\n",
       "      <td>Banashankari</td>\n",
       "    </tr>\n",
       "    <tr>\n",
       "      <th>10</th>\n",
       "      <td>Banashankari</td>\n",
       "      <td>Banashankari</td>\n",
       "    </tr>\n",
       "    <tr>\n",
       "      <th>11</th>\n",
       "      <td>Banashankari</td>\n",
       "      <td>Banashankari</td>\n",
       "    </tr>\n",
       "    <tr>\n",
       "      <th>12</th>\n",
       "      <td>Banashankari</td>\n",
       "      <td>Banashankari</td>\n",
       "    </tr>\n",
       "    <tr>\n",
       "      <th>13</th>\n",
       "      <td>Banashankari</td>\n",
       "      <td>Banashankari</td>\n",
       "    </tr>\n",
       "    <tr>\n",
       "      <th>14</th>\n",
       "      <td>Banashankari</td>\n",
       "      <td>Banashankari</td>\n",
       "    </tr>\n",
       "    <tr>\n",
       "      <th>15</th>\n",
       "      <td>Banashankari</td>\n",
       "      <td>Banashankari</td>\n",
       "    </tr>\n",
       "    <tr>\n",
       "      <th>16</th>\n",
       "      <td>Banashankari</td>\n",
       "      <td>Banashankari</td>\n",
       "    </tr>\n",
       "    <tr>\n",
       "      <th>17</th>\n",
       "      <td>Banashankari</td>\n",
       "      <td>Banashankari</td>\n",
       "    </tr>\n",
       "    <tr>\n",
       "      <th>18</th>\n",
       "      <td>Banashankari</td>\n",
       "      <td>Banashankari</td>\n",
       "    </tr>\n",
       "    <tr>\n",
       "      <th>19</th>\n",
       "      <td>Banashankari</td>\n",
       "      <td>Banashankari</td>\n",
       "    </tr>\n",
       "    <tr>\n",
       "      <th>20</th>\n",
       "      <td>Banashankari</td>\n",
       "      <td>Banashankari</td>\n",
       "    </tr>\n",
       "    <tr>\n",
       "      <th>21</th>\n",
       "      <td>Banashankari</td>\n",
       "      <td>Banashankari</td>\n",
       "    </tr>\n",
       "    <tr>\n",
       "      <th>22</th>\n",
       "      <td>Banashankari</td>\n",
       "      <td>Banashankari</td>\n",
       "    </tr>\n",
       "    <tr>\n",
       "      <th>23</th>\n",
       "      <td>Banashankari</td>\n",
       "      <td>Banashankari</td>\n",
       "    </tr>\n",
       "    <tr>\n",
       "      <th>24</th>\n",
       "      <td>Banashankari</td>\n",
       "      <td>Banashankari</td>\n",
       "    </tr>\n",
       "    <tr>\n",
       "      <th>25</th>\n",
       "      <td>Banashankari</td>\n",
       "      <td>Banashankari</td>\n",
       "    </tr>\n",
       "    <tr>\n",
       "      <th>26</th>\n",
       "      <td>Banashankari</td>\n",
       "      <td>Banashankari</td>\n",
       "    </tr>\n",
       "    <tr>\n",
       "      <th>27</th>\n",
       "      <td>Banashankari</td>\n",
       "      <td>Banashankari</td>\n",
       "    </tr>\n",
       "    <tr>\n",
       "      <th>28</th>\n",
       "      <td>Banashankari</td>\n",
       "      <td>Banashankari</td>\n",
       "    </tr>\n",
       "    <tr>\n",
       "      <th>29</th>\n",
       "      <td>Basavanagudi</td>\n",
       "      <td>Banashankari</td>\n",
       "    </tr>\n",
       "    <tr>\n",
       "      <th>...</th>\n",
       "      <td>...</td>\n",
       "      <td>...</td>\n",
       "    </tr>\n",
       "    <tr>\n",
       "      <th>51687</th>\n",
       "      <td>Whitefield</td>\n",
       "      <td>Whitefield</td>\n",
       "    </tr>\n",
       "    <tr>\n",
       "      <th>51688</th>\n",
       "      <td>Whitefield</td>\n",
       "      <td>Whitefield</td>\n",
       "    </tr>\n",
       "    <tr>\n",
       "      <th>51689</th>\n",
       "      <td>Whitefield</td>\n",
       "      <td>Whitefield</td>\n",
       "    </tr>\n",
       "    <tr>\n",
       "      <th>51690</th>\n",
       "      <td>Whitefield</td>\n",
       "      <td>Whitefield</td>\n",
       "    </tr>\n",
       "    <tr>\n",
       "      <th>51691</th>\n",
       "      <td>Whitefield</td>\n",
       "      <td>Whitefield</td>\n",
       "    </tr>\n",
       "    <tr>\n",
       "      <th>51692</th>\n",
       "      <td>Whitefield</td>\n",
       "      <td>Whitefield</td>\n",
       "    </tr>\n",
       "    <tr>\n",
       "      <th>51693</th>\n",
       "      <td>Whitefield</td>\n",
       "      <td>Whitefield</td>\n",
       "    </tr>\n",
       "    <tr>\n",
       "      <th>51694</th>\n",
       "      <td>Whitefield</td>\n",
       "      <td>Whitefield</td>\n",
       "    </tr>\n",
       "    <tr>\n",
       "      <th>51695</th>\n",
       "      <td>Whitefield</td>\n",
       "      <td>Whitefield</td>\n",
       "    </tr>\n",
       "    <tr>\n",
       "      <th>51696</th>\n",
       "      <td>Whitefield</td>\n",
       "      <td>Whitefield</td>\n",
       "    </tr>\n",
       "    <tr>\n",
       "      <th>51697</th>\n",
       "      <td>Whitefield</td>\n",
       "      <td>Whitefield</td>\n",
       "    </tr>\n",
       "    <tr>\n",
       "      <th>51698</th>\n",
       "      <td>Whitefield</td>\n",
       "      <td>Whitefield</td>\n",
       "    </tr>\n",
       "    <tr>\n",
       "      <th>51699</th>\n",
       "      <td>Whitefield</td>\n",
       "      <td>Whitefield</td>\n",
       "    </tr>\n",
       "    <tr>\n",
       "      <th>51700</th>\n",
       "      <td>Whitefield</td>\n",
       "      <td>Whitefield</td>\n",
       "    </tr>\n",
       "    <tr>\n",
       "      <th>51701</th>\n",
       "      <td>Whitefield</td>\n",
       "      <td>Whitefield</td>\n",
       "    </tr>\n",
       "    <tr>\n",
       "      <th>51702</th>\n",
       "      <td>Whitefield</td>\n",
       "      <td>Whitefield</td>\n",
       "    </tr>\n",
       "    <tr>\n",
       "      <th>51703</th>\n",
       "      <td>Whitefield</td>\n",
       "      <td>Whitefield</td>\n",
       "    </tr>\n",
       "    <tr>\n",
       "      <th>51704</th>\n",
       "      <td>Whitefield</td>\n",
       "      <td>Whitefield</td>\n",
       "    </tr>\n",
       "    <tr>\n",
       "      <th>51705</th>\n",
       "      <td>Whitefield</td>\n",
       "      <td>Whitefield</td>\n",
       "    </tr>\n",
       "    <tr>\n",
       "      <th>51706</th>\n",
       "      <td>Whitefield</td>\n",
       "      <td>Whitefield</td>\n",
       "    </tr>\n",
       "    <tr>\n",
       "      <th>51707</th>\n",
       "      <td>Whitefield</td>\n",
       "      <td>Whitefield</td>\n",
       "    </tr>\n",
       "    <tr>\n",
       "      <th>51708</th>\n",
       "      <td>Whitefield</td>\n",
       "      <td>Whitefield</td>\n",
       "    </tr>\n",
       "    <tr>\n",
       "      <th>51709</th>\n",
       "      <td>Whitefield</td>\n",
       "      <td>Whitefield</td>\n",
       "    </tr>\n",
       "    <tr>\n",
       "      <th>51710</th>\n",
       "      <td>Whitefield</td>\n",
       "      <td>Whitefield</td>\n",
       "    </tr>\n",
       "    <tr>\n",
       "      <th>51711</th>\n",
       "      <td>Whitefield</td>\n",
       "      <td>Whitefield</td>\n",
       "    </tr>\n",
       "    <tr>\n",
       "      <th>51712</th>\n",
       "      <td>Whitefield</td>\n",
       "      <td>Whitefield</td>\n",
       "    </tr>\n",
       "    <tr>\n",
       "      <th>51713</th>\n",
       "      <td>Whitefield</td>\n",
       "      <td>Whitefield</td>\n",
       "    </tr>\n",
       "    <tr>\n",
       "      <th>51714</th>\n",
       "      <td>Whitefield</td>\n",
       "      <td>Whitefield</td>\n",
       "    </tr>\n",
       "    <tr>\n",
       "      <th>51715</th>\n",
       "      <td>ITPL Main Road, Whitefield</td>\n",
       "      <td>Whitefield</td>\n",
       "    </tr>\n",
       "    <tr>\n",
       "      <th>51716</th>\n",
       "      <td>ITPL Main Road, Whitefield</td>\n",
       "      <td>Whitefield</td>\n",
       "    </tr>\n",
       "  </tbody>\n",
       "</table>\n",
       "<p>51717 rows × 2 columns</p>\n",
       "</div>"
      ],
      "text/plain": [
       "                         location listed_in(city)\n",
       "0                    Banashankari    Banashankari\n",
       "1                    Banashankari    Banashankari\n",
       "2                    Banashankari    Banashankari\n",
       "3                    Banashankari    Banashankari\n",
       "4                    Basavanagudi    Banashankari\n",
       "5                    Basavanagudi    Banashankari\n",
       "6                     Mysore Road    Banashankari\n",
       "7                    Banashankari    Banashankari\n",
       "8                    Banashankari    Banashankari\n",
       "9                    Banashankari    Banashankari\n",
       "10                   Banashankari    Banashankari\n",
       "11                   Banashankari    Banashankari\n",
       "12                   Banashankari    Banashankari\n",
       "13                   Banashankari    Banashankari\n",
       "14                   Banashankari    Banashankari\n",
       "15                   Banashankari    Banashankari\n",
       "16                   Banashankari    Banashankari\n",
       "17                   Banashankari    Banashankari\n",
       "18                   Banashankari    Banashankari\n",
       "19                   Banashankari    Banashankari\n",
       "20                   Banashankari    Banashankari\n",
       "21                   Banashankari    Banashankari\n",
       "22                   Banashankari    Banashankari\n",
       "23                   Banashankari    Banashankari\n",
       "24                   Banashankari    Banashankari\n",
       "25                   Banashankari    Banashankari\n",
       "26                   Banashankari    Banashankari\n",
       "27                   Banashankari    Banashankari\n",
       "28                   Banashankari    Banashankari\n",
       "29                   Basavanagudi    Banashankari\n",
       "...                           ...             ...\n",
       "51687                  Whitefield      Whitefield\n",
       "51688                  Whitefield      Whitefield\n",
       "51689                  Whitefield      Whitefield\n",
       "51690                  Whitefield      Whitefield\n",
       "51691                  Whitefield      Whitefield\n",
       "51692                  Whitefield      Whitefield\n",
       "51693                  Whitefield      Whitefield\n",
       "51694                  Whitefield      Whitefield\n",
       "51695                  Whitefield      Whitefield\n",
       "51696                  Whitefield      Whitefield\n",
       "51697                  Whitefield      Whitefield\n",
       "51698                  Whitefield      Whitefield\n",
       "51699                  Whitefield      Whitefield\n",
       "51700                  Whitefield      Whitefield\n",
       "51701                  Whitefield      Whitefield\n",
       "51702                  Whitefield      Whitefield\n",
       "51703                  Whitefield      Whitefield\n",
       "51704                  Whitefield      Whitefield\n",
       "51705                  Whitefield      Whitefield\n",
       "51706                  Whitefield      Whitefield\n",
       "51707                  Whitefield      Whitefield\n",
       "51708                  Whitefield      Whitefield\n",
       "51709                  Whitefield      Whitefield\n",
       "51710                  Whitefield      Whitefield\n",
       "51711                  Whitefield      Whitefield\n",
       "51712                  Whitefield      Whitefield\n",
       "51713                  Whitefield      Whitefield\n",
       "51714                  Whitefield      Whitefield\n",
       "51715  ITPL Main Road, Whitefield      Whitefield\n",
       "51716  ITPL Main Road, Whitefield      Whitefield\n",
       "\n",
       "[51717 rows x 2 columns]"
      ]
     },
     "execution_count": 140,
     "metadata": {},
     "output_type": "execute_result"
    }
   ],
   "source": [
    "#insert justification of dropping location in next step\n",
    "#because \"location\" is part of address already present in listed_in(city)\n",
    "df[['location','listed_in(city)']]"
   ]
  },
  {
   "cell_type": "code",
   "execution_count": 141,
   "metadata": {
    "collapsed": true
   },
   "outputs": [],
   "source": [
    "df.drop(columns=['url','phone','location'], inplace=True)"
   ]
  },
  {
   "cell_type": "code",
   "execution_count": 142,
   "metadata": {},
   "outputs": [
    {
     "data": {
      "text/plain": [
       "<matplotlib.axes._subplots.AxesSubplot at 0x21ff4867860>"
      ]
     },
     "execution_count": 142,
     "metadata": {},
     "output_type": "execute_result"
    },
    {
     "data": {
      "image/png": "[encoded data removed]",
      "text/plain": [
       "<Figure size 432x288 with 1 Axes>"
      ]
     },
     "metadata": {
      "needs_background": "light"
     },
     "output_type": "display_data"
    }
   ],
   "source": [
    "df['votes'].hist()"
   ]
  },
  {
   "cell_type": "code",
   "execution_count": 143,
   "metadata": {},
   "outputs": [
    {
     "data": {
      "text/html": [
       "<div>\n",
       "<style scoped>\n",
       "    .dataframe tbody tr th:only-of-type {\n",
       "        vertical-align: middle;\n",
       "    }\n",
       "\n",
       "    .dataframe tbody tr th {\n",
       "        vertical-align: top;\n",
       "    }\n",
       "\n",
       "    .dataframe thead th {\n",
       "        text-align: right;\n",
       "    }\n",
       "</style>\n",
       "<table border=\"1\" class=\"dataframe\">\n",
       "  <thead>\n",
       "    <tr style=\"text-align: right;\">\n",
       "      <th></th>\n",
       "      <th>address</th>\n",
       "      <th>name</th>\n",
       "      <th>online_order</th>\n",
       "      <th>book_table</th>\n",
       "      <th>rate</th>\n",
       "      <th>votes</th>\n",
       "      <th>rest_type</th>\n",
       "      <th>dish_liked</th>\n",
       "      <th>cuisines</th>\n",
       "      <th>average_cost</th>\n",
       "      <th>reviews_list</th>\n",
       "      <th>menu_item</th>\n",
       "      <th>meal_type</th>\n",
       "      <th>locality</th>\n",
       "    </tr>\n",
       "  </thead>\n",
       "  <tbody>\n",
       "    <tr>\n",
       "      <th>0</th>\n",
       "      <td>942, 21st Main Road, 2nd Stage, Banashankari, ...</td>\n",
       "      <td>Jalsa</td>\n",
       "      <td>Yes</td>\n",
       "      <td>Yes</td>\n",
       "      <td>4.1/5</td>\n",
       "      <td>775</td>\n",
       "      <td>Casual Dining</td>\n",
       "      <td>Pasta, Lunch Buffet, Masala Papad, Paneer Laja...</td>\n",
       "      <td>North Indian, Mughlai, Chinese</td>\n",
       "      <td>800</td>\n",
       "      <td>[('Rated 4.0', 'RATED\\n  A beautiful place to ...</td>\n",
       "      <td>[]</td>\n",
       "      <td>Buffet</td>\n",
       "      <td>Banashankari</td>\n",
       "    </tr>\n",
       "    <tr>\n",
       "      <th>1</th>\n",
       "      <td>2nd Floor, 80 Feet Road, Near Big Bazaar, 6th ...</td>\n",
       "      <td>Spice Elephant</td>\n",
       "      <td>Yes</td>\n",
       "      <td>No</td>\n",
       "      <td>4.1/5</td>\n",
       "      <td>787</td>\n",
       "      <td>Casual Dining</td>\n",
       "      <td>Momos, Lunch Buffet, Chocolate Nirvana, Thai G...</td>\n",
       "      <td>Chinese, North Indian, Thai</td>\n",
       "      <td>800</td>\n",
       "      <td>[('Rated 4.0', 'RATED\\n  Had been here for din...</td>\n",
       "      <td>[]</td>\n",
       "      <td>Buffet</td>\n",
       "      <td>Banashankari</td>\n",
       "    </tr>\n",
       "    <tr>\n",
       "      <th>2</th>\n",
       "      <td>1112, Next to KIMS Medical College, 17th Cross...</td>\n",
       "      <td>San Churro Cafe</td>\n",
       "      <td>Yes</td>\n",
       "      <td>No</td>\n",
       "      <td>3.8/5</td>\n",
       "      <td>918</td>\n",
       "      <td>Cafe, Casual Dining</td>\n",
       "      <td>Churros, Cannelloni, Minestrone Soup, Hot Choc...</td>\n",
       "      <td>Cafe, Mexican, Italian</td>\n",
       "      <td>800</td>\n",
       "      <td>[('Rated 3.0', \"RATED\\n  Ambience is not that ...</td>\n",
       "      <td>[]</td>\n",
       "      <td>Buffet</td>\n",
       "      <td>Banashankari</td>\n",
       "    </tr>\n",
       "    <tr>\n",
       "      <th>3</th>\n",
       "      <td>1st Floor, Annakuteera, 3rd Stage, Banashankar...</td>\n",
       "      <td>Addhuri Udupi Bhojana</td>\n",
       "      <td>No</td>\n",
       "      <td>No</td>\n",
       "      <td>3.7/5</td>\n",
       "      <td>88</td>\n",
       "      <td>Quick Bites</td>\n",
       "      <td>Masala Dosa</td>\n",
       "      <td>South Indian, North Indian</td>\n",
       "      <td>300</td>\n",
       "      <td>[('Rated 4.0', \"RATED\\n  Great food and proper...</td>\n",
       "      <td>[]</td>\n",
       "      <td>Buffet</td>\n",
       "      <td>Banashankari</td>\n",
       "    </tr>\n",
       "    <tr>\n",
       "      <th>4</th>\n",
       "      <td>10, 3rd Floor, Lakshmi Associates, Gandhi Baza...</td>\n",
       "      <td>Grand Village</td>\n",
       "      <td>No</td>\n",
       "      <td>No</td>\n",
       "      <td>3.8/5</td>\n",
       "      <td>166</td>\n",
       "      <td>Casual Dining</td>\n",
       "      <td>Panipuri, Gol Gappe</td>\n",
       "      <td>North Indian, Rajasthani</td>\n",
       "      <td>600</td>\n",
       "      <td>[('Rated 4.0', 'RATED\\n  Very good restaurant ...</td>\n",
       "      <td>[]</td>\n",
       "      <td>Buffet</td>\n",
       "      <td>Banashankari</td>\n",
       "    </tr>\n",
       "  </tbody>\n",
       "</table>\n",
       "</div>"
      ],
      "text/plain": [
       "                                             address                   name  \\\n",
       "0  942, 21st Main Road, 2nd Stage, Banashankari, ...                  Jalsa   \n",
       "1  2nd Floor, 80 Feet Road, Near Big Bazaar, 6th ...         Spice Elephant   \n",
       "2  1112, Next to KIMS Medical College, 17th Cross...        San Churro Cafe   \n",
       "3  1st Floor, Annakuteera, 3rd Stage, Banashankar...  Addhuri Udupi Bhojana   \n",
       "4  10, 3rd Floor, Lakshmi Associates, Gandhi Baza...          Grand Village   \n",
       "\n",
       "  online_order book_table   rate  votes            rest_type  \\\n",
       "0          Yes        Yes  4.1/5    775        Casual Dining   \n",
       "1          Yes         No  4.1/5    787        Casual Dining   \n",
       "2          Yes         No  3.8/5    918  Cafe, Casual Dining   \n",
       "3           No         No  3.7/5     88          Quick Bites   \n",
       "4           No         No  3.8/5    166        Casual Dining   \n",
       "\n",
       "                                          dish_liked  \\\n",
       "0  Pasta, Lunch Buffet, Masala Papad, Paneer Laja...   \n",
       "1  Momos, Lunch Buffet, Chocolate Nirvana, Thai G...   \n",
       "2  Churros, Cannelloni, Minestrone Soup, Hot Choc...   \n",
       "3                                        Masala Dosa   \n",
       "4                                Panipuri, Gol Gappe   \n",
       "\n",
       "                         cuisines average_cost  \\\n",
       "0  North Indian, Mughlai, Chinese          800   \n",
       "1     Chinese, North Indian, Thai          800   \n",
       "2          Cafe, Mexican, Italian          800   \n",
       "3      South Indian, North Indian          300   \n",
       "4        North Indian, Rajasthani          600   \n",
       "\n",
       "                                        reviews_list menu_item meal_type  \\\n",
       "0  [('Rated 4.0', 'RATED\\n  A beautiful place to ...        []    Buffet   \n",
       "1  [('Rated 4.0', 'RATED\\n  Had been here for din...        []    Buffet   \n",
       "2  [('Rated 3.0', \"RATED\\n  Ambience is not that ...        []    Buffet   \n",
       "3  [('Rated 4.0', \"RATED\\n  Great food and proper...        []    Buffet   \n",
       "4  [('Rated 4.0', 'RATED\\n  Very good restaurant ...        []    Buffet   \n",
       "\n",
       "       locality  \n",
       "0  Banashankari  \n",
       "1  Banashankari  \n",
       "2  Banashankari  \n",
       "3  Banashankari  \n",
       "4  Banashankari  "
      ]
     },
     "execution_count": 143,
     "metadata": {},
     "output_type": "execute_result"
    }
   ],
   "source": [
    "df.rename(columns={'approx_cost(for two people)': 'average_cost', 'listed_in(city)':'locality', 'listed_in(type)':'meal_type'},inplace=True)\n",
    "df.head()"
   ]
  },
  {
   "cell_type": "code",
   "execution_count": 144,
   "metadata": {},
   "outputs": [
    {
     "data": {
      "text/plain": [
       "array(['800', '300', '600', '700', '550', '500', '450', '650', '400',\n",
       "       '900', '200', '750', '150', '850', '100', '1,200', '350', '250',\n",
       "       '950', '1,000', '1,500', '1,300', '199', '80', '1,100', '160',\n",
       "       '1,600', '230', '130', '50', '190', '1,700', nan, '1,400', '180',\n",
       "       '1,350', '2,200', '2,000', '1,800', '1,900', '330', '2,500',\n",
       "       '2,100', '3,000', '2,800', '3,400', '40', '1,250', '3,500',\n",
       "       '4,000', '2,400', '2,600', '120', '1,450', '469', '70', '3,200',\n",
       "       '60', '560', '240', '360', '6,000', '1,050', '2,300', '4,100',\n",
       "       '5,000', '3,700', '1,650', '2,700', '4,500', '140'], dtype=object)"
      ]
     },
     "execution_count": 144,
     "metadata": {},
     "output_type": "execute_result"
    }
   ],
   "source": [
    "df['average_cost'].unique()"
   ]
  },
  {
   "cell_type": "code",
   "execution_count": 145,
   "metadata": {
    "collapsed": true
   },
   "outputs": [],
   "source": [
    "df['average_cost']=df['average_cost'].str.replace(',','')"
   ]
  },
  {
   "cell_type": "code",
   "execution_count": 146,
   "metadata": {
    "collapsed": true
   },
   "outputs": [],
   "source": [
    "df['average_cost']=df['average_cost'].astype(float)"
   ]
  },
  {
   "cell_type": "code",
   "execution_count": 147,
   "metadata": {},
   "outputs": [
    {
     "data": {
      "text/plain": [
       "<matplotlib.axes._subplots.AxesSubplot at 0x21ff4958da0>"
      ]
     },
     "execution_count": 147,
     "metadata": {},
     "output_type": "execute_result"
    },
    {
     "data": {
      "image/png": "[encoded data removed]",
      "text/plain": [
       "<Figure size 432x288 with 1 Axes>"
      ]
     },
     "metadata": {
      "needs_background": "light"
     },
     "output_type": "display_data"
    }
   ],
   "source": [
    "df['average_cost'].hist()"
   ]
  },
  {
   "cell_type": "code",
   "execution_count": 148,
   "metadata": {},
   "outputs": [
    {
     "data": {
      "text/plain": [
       "array(['4.1/5', '3.8/5', '3.7/5', '3.6/5', '4.6/5', '4.0/5', '4.2/5',\n",
       "       '3.9/5', '3.1/5', '3.0/5', '3.2/5', '3.3/5', '2.8/5', '4.4/5',\n",
       "       '4.3/5', 'NEW', '2.9/5', '3.5/5', nan, '2.6/5', '3.8 /5', '3.4/5',\n",
       "       '4.5/5', '2.5/5', '2.7/5', '4.7/5', '2.4/5', '2.2/5', '2.3/5',\n",
       "       '3.4 /5', '-', '3.6 /5', '4.8/5', '3.9 /5', '4.2 /5', '4.0 /5',\n",
       "       '4.1 /5', '3.7 /5', '3.1 /5', '2.9 /5', '3.3 /5', '2.8 /5',\n",
       "       '3.5 /5', '2.7 /5', '2.5 /5', '3.2 /5', '2.6 /5', '4.5 /5',\n",
       "       '4.3 /5', '4.4 /5', '4.9/5', '2.1/5', '2.0/5', '1.8/5', '4.6 /5',\n",
       "       '4.9 /5', '3.0 /5', '4.8 /5', '2.3 /5', '4.7 /5', '2.4 /5',\n",
       "       '2.1 /5', '2.2 /5', '2.0 /5', '1.8 /5'], dtype=object)"
      ]
     },
     "execution_count": 148,
     "metadata": {},
     "output_type": "execute_result"
    }
   ],
   "source": [
    "df['rate'].unique()"
   ]
  },
  {
   "cell_type": "code",
   "execution_count": 149,
   "metadata": {
    "collapsed": true
   },
   "outputs": [],
   "source": [
    "df['rate']=df['rate'].str.strip()\n",
    "df['rate']=df['rate'].str.replace('/5','')\n",
    "df['rate'].fillna(0,inplace=True)\n",
    "df['rate'].replace(\"NEW\", 0,inplace=True)\n",
    "df['rate'].replace(\"-\", 0,inplace=True)"
   ]
  },
  {
   "cell_type": "code",
   "execution_count": 150,
   "metadata": {
    "collapsed": true
   },
   "outputs": [],
   "source": [
    "df.drop(columns=['reviews_list','dish_liked','menu_item'], inplace=True)"
   ]
  },
  {
   "cell_type": "code",
   "execution_count": 151,
   "metadata": {},
   "outputs": [
    {
     "data": {
      "text/plain": [
       "<matplotlib.axes._subplots.AxesSubplot at 0x21ff7ace908>"
      ]
     },
     "execution_count": 151,
     "metadata": {},
     "output_type": "execute_result"
    },
    {
     "data": {
      "image/png": "[encoded data removed]",
      "text/plain": [
       "<Figure size 432x288 with 1 Axes>"
      ]
     },
     "metadata": {
      "needs_background": "light"
     },
     "output_type": "display_data"
    }
   ],
   "source": [
    "df['rate']=df['rate'].astype(float)\n",
    "df['rate'].hist()"
   ]
  },
  {
   "cell_type": "code",
   "execution_count": 152,
   "metadata": {
    "collapsed": true
   },
   "outputs": [],
   "source": [
    "#Name and Address uniquely identify any restaurant in the data, so removing duplicates\n",
    "ex=df.drop_duplicates(['name','address'])"
   ]
  },
  {
   "cell_type": "code",
   "execution_count": 153,
   "metadata": {},
   "outputs": [
    {
     "data": {
      "text/plain": [
       "address          0\n",
       "name             0\n",
       "online_order     0\n",
       "book_table       0\n",
       "rate             0\n",
       "votes            0\n",
       "rest_type       63\n",
       "cuisines        19\n",
       "average_cost    59\n",
       "meal_type        0\n",
       "locality         0\n",
       "dtype: int64"
      ]
     },
     "execution_count": 153,
     "metadata": {},
     "output_type": "execute_result"
    }
   ],
   "source": [
    "ex.isna().sum()"
   ]
  },
  {
   "cell_type": "code",
   "execution_count": 154,
   "metadata": {},
   "outputs": [
    {
     "name": "stderr",
     "output_type": "stream",
     "text": [
      "c:\\users\\aakash patel\\appdata\\local\\programs\\python\\python37\\lib\\site-packages\\ipykernel_launcher.py:1: SettingWithCopyWarning: \n",
      "A value is trying to be set on a copy of a slice from a DataFrame\n",
      "\n",
      "See the caveats in the documentation: http://pandas.pydata.org/pandas-docs/stable/indexing.html#indexing-view-versus-copy\n",
      "  \"\"\"Entry point for launching an IPython kernel.\n"
     ]
    }
   ],
   "source": [
    "ex.dropna(inplace=True)"
   ]
  },
  {
   "cell_type": "code",
   "execution_count": 155,
   "metadata": {},
   "outputs": [
    {
     "name": "stdout",
     "output_type": "stream",
     "text": [
      "<class 'pandas.core.frame.DataFrame'>\n",
      "Int64Index: 12376 entries, 0 to 51714\n",
      "Data columns (total 11 columns):\n",
      "address         12376 non-null object\n",
      "name            12376 non-null object\n",
      "online_order    12376 non-null object\n",
      "book_table      12376 non-null object\n",
      "rate            12376 non-null float64\n",
      "votes           12376 non-null int64\n",
      "rest_type       12376 non-null object\n",
      "cuisines        12376 non-null object\n",
      "average_cost    12376 non-null float64\n",
      "meal_type       12376 non-null object\n",
      "locality        12376 non-null object\n",
      "dtypes: float64(2), int64(1), object(8)\n",
      "memory usage: 1.1+ MB\n"
     ]
    }
   ],
   "source": [
    "ex.info()"
   ]
  },
  {
   "cell_type": "code",
   "execution_count": 156,
   "metadata": {
    "collapsed": true
   },
   "outputs": [],
   "source": [
    "ex=ex.reset_index(drop=True)"
   ]
  },
  {
   "cell_type": "code",
   "execution_count": 157,
   "metadata": {},
   "outputs": [
    {
     "data": {
      "text/html": [
       "<div>\n",
       "<style scoped>\n",
       "    .dataframe tbody tr th:only-of-type {\n",
       "        vertical-align: middle;\n",
       "    }\n",
       "\n",
       "    .dataframe tbody tr th {\n",
       "        vertical-align: top;\n",
       "    }\n",
       "\n",
       "    .dataframe thead th {\n",
       "        text-align: right;\n",
       "    }\n",
       "</style>\n",
       "<table border=\"1\" class=\"dataframe\">\n",
       "  <thead>\n",
       "    <tr style=\"text-align: right;\">\n",
       "      <th></th>\n",
       "      <th>rate</th>\n",
       "      <th>votes</th>\n",
       "      <th>average_cost</th>\n",
       "    </tr>\n",
       "    <tr>\n",
       "      <th>locality</th>\n",
       "      <th></th>\n",
       "      <th></th>\n",
       "      <th></th>\n",
       "    </tr>\n",
       "  </thead>\n",
       "  <tbody>\n",
       "    <tr>\n",
       "      <th>MG Road</th>\n",
       "      <td>3.453846</td>\n",
       "      <td>145.615385</td>\n",
       "      <td>557.692308</td>\n",
       "    </tr>\n",
       "    <tr>\n",
       "      <th>Koramangala 5th Block</th>\n",
       "      <td>3.305263</td>\n",
       "      <td>86.736842</td>\n",
       "      <td>386.842105</td>\n",
       "    </tr>\n",
       "    <tr>\n",
       "      <th>Malleshwaram</th>\n",
       "      <td>3.088984</td>\n",
       "      <td>199.178827</td>\n",
       "      <td>508.469242</td>\n",
       "    </tr>\n",
       "    <tr>\n",
       "      <th>Banashankari</th>\n",
       "      <td>3.050000</td>\n",
       "      <td>170.361204</td>\n",
       "      <td>389.530100</td>\n",
       "    </tr>\n",
       "    <tr>\n",
       "      <th>Brigade Road</th>\n",
       "      <td>3.049713</td>\n",
       "      <td>292.830784</td>\n",
       "      <td>697.915870</td>\n",
       "    </tr>\n",
       "    <tr>\n",
       "      <th>Residency Road</th>\n",
       "      <td>3.022222</td>\n",
       "      <td>18.777778</td>\n",
       "      <td>522.222222</td>\n",
       "    </tr>\n",
       "    <tr>\n",
       "      <th>Lavelle Road</th>\n",
       "      <td>2.927344</td>\n",
       "      <td>103.078125</td>\n",
       "      <td>669.921875</td>\n",
       "    </tr>\n",
       "    <tr>\n",
       "      <th>Indiranagar</th>\n",
       "      <td>2.864011</td>\n",
       "      <td>335.630810</td>\n",
       "      <td>550.584329</td>\n",
       "    </tr>\n",
       "    <tr>\n",
       "      <th>Basavanagudi</th>\n",
       "      <td>2.838619</td>\n",
       "      <td>166.560102</td>\n",
       "      <td>422.506394</td>\n",
       "    </tr>\n",
       "    <tr>\n",
       "      <th>BTM</th>\n",
       "      <td>2.834671</td>\n",
       "      <td>259.963322</td>\n",
       "      <td>463.687889</td>\n",
       "    </tr>\n",
       "    <tr>\n",
       "      <th>Frazer Town</th>\n",
       "      <td>2.761538</td>\n",
       "      <td>148.406593</td>\n",
       "      <td>430.219780</td>\n",
       "    </tr>\n",
       "    <tr>\n",
       "      <th>Church Street</th>\n",
       "      <td>2.748039</td>\n",
       "      <td>160.000000</td>\n",
       "      <td>517.156863</td>\n",
       "    </tr>\n",
       "    <tr>\n",
       "      <th>Bellandur</th>\n",
       "      <td>2.734777</td>\n",
       "      <td>200.198726</td>\n",
       "      <td>500.458599</td>\n",
       "    </tr>\n",
       "    <tr>\n",
       "      <th>Koramangala 6th Block</th>\n",
       "      <td>2.716000</td>\n",
       "      <td>132.440000</td>\n",
       "      <td>478.000000</td>\n",
       "    </tr>\n",
       "    <tr>\n",
       "      <th>Brookefield</th>\n",
       "      <td>2.688548</td>\n",
       "      <td>160.781186</td>\n",
       "      <td>495.593047</td>\n",
       "    </tr>\n",
       "    <tr>\n",
       "      <th>Jayanagar</th>\n",
       "      <td>2.685816</td>\n",
       "      <td>149.070922</td>\n",
       "      <td>432.269504</td>\n",
       "    </tr>\n",
       "    <tr>\n",
       "      <th>Bannerghatta Road</th>\n",
       "      <td>2.627877</td>\n",
       "      <td>130.864359</td>\n",
       "      <td>426.903648</td>\n",
       "    </tr>\n",
       "    <tr>\n",
       "      <th>Kalyan Nagar</th>\n",
       "      <td>2.626323</td>\n",
       "      <td>109.655989</td>\n",
       "      <td>450.348189</td>\n",
       "    </tr>\n",
       "    <tr>\n",
       "      <th>Koramangala 7th Block</th>\n",
       "      <td>2.582143</td>\n",
       "      <td>131.178571</td>\n",
       "      <td>398.214286</td>\n",
       "    </tr>\n",
       "    <tr>\n",
       "      <th>Sarjapur Road</th>\n",
       "      <td>2.488889</td>\n",
       "      <td>46.090909</td>\n",
       "      <td>430.303030</td>\n",
       "    </tr>\n",
       "    <tr>\n",
       "      <th>Rajajinagar</th>\n",
       "      <td>2.484170</td>\n",
       "      <td>71.559846</td>\n",
       "      <td>405.135135</td>\n",
       "    </tr>\n",
       "    <tr>\n",
       "      <th>Kammanahalli</th>\n",
       "      <td>2.475000</td>\n",
       "      <td>57.125000</td>\n",
       "      <td>341.250000</td>\n",
       "    </tr>\n",
       "    <tr>\n",
       "      <th>Whitefield</th>\n",
       "      <td>2.473673</td>\n",
       "      <td>151.923567</td>\n",
       "      <td>553.651805</td>\n",
       "    </tr>\n",
       "    <tr>\n",
       "      <th>Koramangala 4th Block</th>\n",
       "      <td>2.463768</td>\n",
       "      <td>207.351449</td>\n",
       "      <td>486.739130</td>\n",
       "    </tr>\n",
       "    <tr>\n",
       "      <th>New BEL Road</th>\n",
       "      <td>2.438820</td>\n",
       "      <td>95.832298</td>\n",
       "      <td>405.900621</td>\n",
       "    </tr>\n",
       "    <tr>\n",
       "      <th>Marathahalli</th>\n",
       "      <td>2.376271</td>\n",
       "      <td>167.717514</td>\n",
       "      <td>469.915254</td>\n",
       "    </tr>\n",
       "    <tr>\n",
       "      <th>Old Airport Road</th>\n",
       "      <td>2.354545</td>\n",
       "      <td>70.075758</td>\n",
       "      <td>477.121212</td>\n",
       "    </tr>\n",
       "    <tr>\n",
       "      <th>HSR</th>\n",
       "      <td>2.345671</td>\n",
       "      <td>132.764069</td>\n",
       "      <td>424.805195</td>\n",
       "    </tr>\n",
       "    <tr>\n",
       "      <th>JP Nagar</th>\n",
       "      <td>2.200000</td>\n",
       "      <td>92.731707</td>\n",
       "      <td>414.024390</td>\n",
       "    </tr>\n",
       "    <tr>\n",
       "      <th>Electronic City</th>\n",
       "      <td>2.185241</td>\n",
       "      <td>77.151724</td>\n",
       "      <td>461.820690</td>\n",
       "    </tr>\n",
       "  </tbody>\n",
       "</table>\n",
       "</div>"
      ],
      "text/plain": [
       "                           rate       votes  average_cost\n",
       "locality                                                 \n",
       "MG Road                3.453846  145.615385    557.692308\n",
       "Koramangala 5th Block  3.305263   86.736842    386.842105\n",
       "Malleshwaram           3.088984  199.178827    508.469242\n",
       "Banashankari           3.050000  170.361204    389.530100\n",
       "Brigade Road           3.049713  292.830784    697.915870\n",
       "Residency Road         3.022222   18.777778    522.222222\n",
       "Lavelle Road           2.927344  103.078125    669.921875\n",
       "Indiranagar            2.864011  335.630810    550.584329\n",
       "Basavanagudi           2.838619  166.560102    422.506394\n",
       "BTM                    2.834671  259.963322    463.687889\n",
       "Frazer Town            2.761538  148.406593    430.219780\n",
       "Church Street          2.748039  160.000000    517.156863\n",
       "Bellandur              2.734777  200.198726    500.458599\n",
       "Koramangala 6th Block  2.716000  132.440000    478.000000\n",
       "Brookefield            2.688548  160.781186    495.593047\n",
       "Jayanagar              2.685816  149.070922    432.269504\n",
       "Bannerghatta Road      2.627877  130.864359    426.903648\n",
       "Kalyan Nagar           2.626323  109.655989    450.348189\n",
       "Koramangala 7th Block  2.582143  131.178571    398.214286\n",
       "Sarjapur Road          2.488889   46.090909    430.303030\n",
       "Rajajinagar            2.484170   71.559846    405.135135\n",
       "Kammanahalli           2.475000   57.125000    341.250000\n",
       "Whitefield             2.473673  151.923567    553.651805\n",
       "Koramangala 4th Block  2.463768  207.351449    486.739130\n",
       "New BEL Road           2.438820   95.832298    405.900621\n",
       "Marathahalli           2.376271  167.717514    469.915254\n",
       "Old Airport Road       2.354545   70.075758    477.121212\n",
       "HSR                    2.345671  132.764069    424.805195\n",
       "JP Nagar               2.200000   92.731707    414.024390\n",
       "Electronic City        2.185241   77.151724    461.820690"
      ]
     },
     "execution_count": 157,
     "metadata": {},
     "output_type": "execute_result"
    }
   ],
   "source": [
    "ex.groupby(['locality']).mean().sort_values(['rate'],ascending=False)\n"
   ]
  },
  {
   "cell_type": "markdown",
   "metadata": {},
   "source": [
    "## 2.d "
   ]
  },
  {
   "cell_type": "markdown",
   "metadata": {},
   "source": [
    "To be able to find out neighbourhood with maximum rating, we grouped by locality attribute and sorted it in descending order."
   ]
  },
  {
   "cell_type": "code",
   "execution_count": 158,
   "metadata": {
    "collapsed": true
   },
   "outputs": [],
   "source": [
    "q2_d=ex[ex['locality']=='MG Road']"
   ]
  },
  {
   "cell_type": "markdown",
   "metadata": {},
   "source": [
    " We discovered that neighbourhood with maximum rating is **MG Road**"
   ]
  },
  {
   "cell_type": "code",
   "execution_count": 159,
   "metadata": {},
   "outputs": [
    {
     "data": {
      "text/plain": [
       "13"
      ]
     },
     "execution_count": 159,
     "metadata": {},
     "output_type": "execute_result"
    }
   ],
   "source": [
    "len(q2_d)"
   ]
  },
  {
   "cell_type": "markdown",
   "metadata": {},
   "source": [
    "We found only 13 such records"
   ]
  },
  {
   "cell_type": "code",
   "execution_count": 160,
   "metadata": {},
   "outputs": [
    {
     "data": {
      "text/html": [
       "<div>\n",
       "<style scoped>\n",
       "    .dataframe tbody tr th:only-of-type {\n",
       "        vertical-align: middle;\n",
       "    }\n",
       "\n",
       "    .dataframe tbody tr th {\n",
       "        vertical-align: top;\n",
       "    }\n",
       "\n",
       "    .dataframe thead th {\n",
       "        text-align: right;\n",
       "    }\n",
       "</style>\n",
       "<table border=\"1\" class=\"dataframe\">\n",
       "  <thead>\n",
       "    <tr style=\"text-align: right;\">\n",
       "      <th></th>\n",
       "      <th>address</th>\n",
       "      <th>name</th>\n",
       "      <th>book_table</th>\n",
       "      <th>rate</th>\n",
       "      <th>votes</th>\n",
       "      <th>rest_type</th>\n",
       "      <th>cuisines</th>\n",
       "      <th>average_cost</th>\n",
       "      <th>meal_type</th>\n",
       "      <th>locality</th>\n",
       "    </tr>\n",
       "    <tr>\n",
       "      <th>online_order</th>\n",
       "      <th></th>\n",
       "      <th></th>\n",
       "      <th></th>\n",
       "      <th></th>\n",
       "      <th></th>\n",
       "      <th></th>\n",
       "      <th></th>\n",
       "      <th></th>\n",
       "      <th></th>\n",
       "      <th></th>\n",
       "    </tr>\n",
       "  </thead>\n",
       "  <tbody>\n",
       "    <tr>\n",
       "      <th>No</th>\n",
       "      <td>6</td>\n",
       "      <td>6</td>\n",
       "      <td>6</td>\n",
       "      <td>6</td>\n",
       "      <td>6</td>\n",
       "      <td>6</td>\n",
       "      <td>6</td>\n",
       "      <td>6</td>\n",
       "      <td>6</td>\n",
       "      <td>6</td>\n",
       "    </tr>\n",
       "    <tr>\n",
       "      <th>Yes</th>\n",
       "      <td>7</td>\n",
       "      <td>7</td>\n",
       "      <td>7</td>\n",
       "      <td>7</td>\n",
       "      <td>7</td>\n",
       "      <td>7</td>\n",
       "      <td>7</td>\n",
       "      <td>7</td>\n",
       "      <td>7</td>\n",
       "      <td>7</td>\n",
       "    </tr>\n",
       "  </tbody>\n",
       "</table>\n",
       "</div>"
      ],
      "text/plain": [
       "              address  name  book_table  rate  votes  rest_type  cuisines  \\\n",
       "online_order                                                                \n",
       "No                  6     6           6     6      6          6         6   \n",
       "Yes                 7     7           7     7      7          7         7   \n",
       "\n",
       "              average_cost  meal_type  locality  \n",
       "online_order                                     \n",
       "No                       6          6         6  \n",
       "Yes                      7          7         7  "
      ]
     },
     "execution_count": 160,
     "metadata": {},
     "output_type": "execute_result"
    }
   ],
   "source": [
    "q2_d.groupby(['online_order']).count()"
   ]
  },
  {
   "cell_type": "markdown",
   "metadata": {},
   "source": [
    "There are 7 restaurants which are \"Online Order\" enabled. All Others do not have online order facility."
   ]
  },
  {
   "cell_type": "code",
   "execution_count": 161,
   "metadata": {},
   "outputs": [
    {
     "data": {
      "text/html": [
       "<div>\n",
       "<style scoped>\n",
       "    .dataframe tbody tr th:only-of-type {\n",
       "        vertical-align: middle;\n",
       "    }\n",
       "\n",
       "    .dataframe tbody tr th {\n",
       "        vertical-align: top;\n",
       "    }\n",
       "\n",
       "    .dataframe thead th {\n",
       "        text-align: right;\n",
       "    }\n",
       "</style>\n",
       "<table border=\"1\" class=\"dataframe\">\n",
       "  <thead>\n",
       "    <tr style=\"text-align: right;\">\n",
       "      <th></th>\n",
       "      <th>address</th>\n",
       "      <th>name</th>\n",
       "      <th>online_order</th>\n",
       "      <th>book_table</th>\n",
       "      <th>rate</th>\n",
       "      <th>votes</th>\n",
       "      <th>cuisines</th>\n",
       "      <th>average_cost</th>\n",
       "      <th>meal_type</th>\n",
       "      <th>locality</th>\n",
       "    </tr>\n",
       "    <tr>\n",
       "      <th>rest_type</th>\n",
       "      <th></th>\n",
       "      <th></th>\n",
       "      <th></th>\n",
       "      <th></th>\n",
       "      <th></th>\n",
       "      <th></th>\n",
       "      <th></th>\n",
       "      <th></th>\n",
       "      <th></th>\n",
       "      <th></th>\n",
       "    </tr>\n",
       "  </thead>\n",
       "  <tbody>\n",
       "    <tr>\n",
       "      <th>Cafe</th>\n",
       "      <td>4</td>\n",
       "      <td>4</td>\n",
       "      <td>4</td>\n",
       "      <td>4</td>\n",
       "      <td>4</td>\n",
       "      <td>4</td>\n",
       "      <td>4</td>\n",
       "      <td>4</td>\n",
       "      <td>4</td>\n",
       "      <td>4</td>\n",
       "    </tr>\n",
       "    <tr>\n",
       "      <th>Cafe, Casual Dining</th>\n",
       "      <td>1</td>\n",
       "      <td>1</td>\n",
       "      <td>1</td>\n",
       "      <td>1</td>\n",
       "      <td>1</td>\n",
       "      <td>1</td>\n",
       "      <td>1</td>\n",
       "      <td>1</td>\n",
       "      <td>1</td>\n",
       "      <td>1</td>\n",
       "    </tr>\n",
       "    <tr>\n",
       "      <th>Casual Dining</th>\n",
       "      <td>3</td>\n",
       "      <td>3</td>\n",
       "      <td>3</td>\n",
       "      <td>3</td>\n",
       "      <td>3</td>\n",
       "      <td>3</td>\n",
       "      <td>3</td>\n",
       "      <td>3</td>\n",
       "      <td>3</td>\n",
       "      <td>3</td>\n",
       "    </tr>\n",
       "    <tr>\n",
       "      <th>Delivery</th>\n",
       "      <td>2</td>\n",
       "      <td>2</td>\n",
       "      <td>2</td>\n",
       "      <td>2</td>\n",
       "      <td>2</td>\n",
       "      <td>2</td>\n",
       "      <td>2</td>\n",
       "      <td>2</td>\n",
       "      <td>2</td>\n",
       "      <td>2</td>\n",
       "    </tr>\n",
       "    <tr>\n",
       "      <th>Quick Bites</th>\n",
       "      <td>3</td>\n",
       "      <td>3</td>\n",
       "      <td>3</td>\n",
       "      <td>3</td>\n",
       "      <td>3</td>\n",
       "      <td>3</td>\n",
       "      <td>3</td>\n",
       "      <td>3</td>\n",
       "      <td>3</td>\n",
       "      <td>3</td>\n",
       "    </tr>\n",
       "  </tbody>\n",
       "</table>\n",
       "</div>"
      ],
      "text/plain": [
       "                     address  name  online_order  book_table  rate  votes  \\\n",
       "rest_type                                                                   \n",
       "Cafe                       4     4             4           4     4      4   \n",
       "Cafe, Casual Dining        1     1             1           1     1      1   \n",
       "Casual Dining              3     3             3           3     3      3   \n",
       "Delivery                   2     2             2           2     2      2   \n",
       "Quick Bites                3     3             3           3     3      3   \n",
       "\n",
       "                     cuisines  average_cost  meal_type  locality  \n",
       "rest_type                                                         \n",
       "Cafe                        4             4          4         4  \n",
       "Cafe, Casual Dining         1             1          1         1  \n",
       "Casual Dining               3             3          3         3  \n",
       "Delivery                    2             2          2         2  \n",
       "Quick Bites                 3             3          3         3  "
      ]
     },
     "execution_count": 161,
     "metadata": {},
     "output_type": "execute_result"
    }
   ],
   "source": [
    "q2_d.groupby(['rest_type']).count()"
   ]
  },
  {
   "cell_type": "markdown",
   "metadata": {},
   "source": [
    "Grouping with restaurant type shows number of restaurants according to restaurant type."
   ]
  },
  {
   "cell_type": "code",
   "execution_count": 162,
   "metadata": {},
   "outputs": [
    {
     "data": {
      "text/html": [
       "<div>\n",
       "<style scoped>\n",
       "    .dataframe tbody tr th:only-of-type {\n",
       "        vertical-align: middle;\n",
       "    }\n",
       "\n",
       "    .dataframe tbody tr th {\n",
       "        vertical-align: top;\n",
       "    }\n",
       "\n",
       "    .dataframe thead th {\n",
       "        text-align: right;\n",
       "    }\n",
       "</style>\n",
       "<table border=\"1\" class=\"dataframe\">\n",
       "  <thead>\n",
       "    <tr style=\"text-align: right;\">\n",
       "      <th></th>\n",
       "      <th>address</th>\n",
       "      <th>name</th>\n",
       "      <th>online_order</th>\n",
       "      <th>rate</th>\n",
       "      <th>votes</th>\n",
       "      <th>rest_type</th>\n",
       "      <th>cuisines</th>\n",
       "      <th>average_cost</th>\n",
       "      <th>meal_type</th>\n",
       "      <th>locality</th>\n",
       "    </tr>\n",
       "    <tr>\n",
       "      <th>book_table</th>\n",
       "      <th></th>\n",
       "      <th></th>\n",
       "      <th></th>\n",
       "      <th></th>\n",
       "      <th></th>\n",
       "      <th></th>\n",
       "      <th></th>\n",
       "      <th></th>\n",
       "      <th></th>\n",
       "      <th></th>\n",
       "    </tr>\n",
       "  </thead>\n",
       "  <tbody>\n",
       "    <tr>\n",
       "      <th>No</th>\n",
       "      <td>13</td>\n",
       "      <td>13</td>\n",
       "      <td>13</td>\n",
       "      <td>13</td>\n",
       "      <td>13</td>\n",
       "      <td>13</td>\n",
       "      <td>13</td>\n",
       "      <td>13</td>\n",
       "      <td>13</td>\n",
       "      <td>13</td>\n",
       "    </tr>\n",
       "  </tbody>\n",
       "</table>\n",
       "</div>"
      ],
      "text/plain": [
       "            address  name  online_order  rate  votes  rest_type  cuisines  \\\n",
       "book_table                                                                  \n",
       "No               13    13            13    13     13         13        13   \n",
       "\n",
       "            average_cost  meal_type  locality  \n",
       "book_table                                     \n",
       "No                    13         13        13  "
      ]
     },
     "execution_count": 162,
     "metadata": {},
     "output_type": "execute_result"
    }
   ],
   "source": [
    "q2_d.groupby(['book_table']).count()"
   ]
  },
  {
   "cell_type": "markdown",
   "metadata": {},
   "source": [
    "Grouping by Book table shows that all the restaurants don't have booking table facility. "
   ]
  },
  {
   "cell_type": "code",
   "execution_count": 163,
   "metadata": {},
   "outputs": [
    {
     "data": {
      "text/html": [
       "<div>\n",
       "<style scoped>\n",
       "    .dataframe tbody tr th:only-of-type {\n",
       "        vertical-align: middle;\n",
       "    }\n",
       "\n",
       "    .dataframe tbody tr th {\n",
       "        vertical-align: top;\n",
       "    }\n",
       "\n",
       "    .dataframe thead th {\n",
       "        text-align: right;\n",
       "    }\n",
       "</style>\n",
       "<table border=\"1\" class=\"dataframe\">\n",
       "  <thead>\n",
       "    <tr style=\"text-align: right;\">\n",
       "      <th></th>\n",
       "      <th>address</th>\n",
       "      <th>name</th>\n",
       "      <th>online_order</th>\n",
       "      <th>book_table</th>\n",
       "      <th>rate</th>\n",
       "      <th>votes</th>\n",
       "      <th>rest_type</th>\n",
       "      <th>cuisines</th>\n",
       "      <th>average_cost</th>\n",
       "      <th>locality</th>\n",
       "    </tr>\n",
       "    <tr>\n",
       "      <th>meal_type</th>\n",
       "      <th></th>\n",
       "      <th></th>\n",
       "      <th></th>\n",
       "      <th></th>\n",
       "      <th></th>\n",
       "      <th></th>\n",
       "      <th></th>\n",
       "      <th></th>\n",
       "      <th></th>\n",
       "      <th></th>\n",
       "    </tr>\n",
       "  </thead>\n",
       "  <tbody>\n",
       "    <tr>\n",
       "      <th>Cafes</th>\n",
       "      <td>3</td>\n",
       "      <td>3</td>\n",
       "      <td>3</td>\n",
       "      <td>3</td>\n",
       "      <td>3</td>\n",
       "      <td>3</td>\n",
       "      <td>3</td>\n",
       "      <td>3</td>\n",
       "      <td>3</td>\n",
       "      <td>3</td>\n",
       "    </tr>\n",
       "    <tr>\n",
       "      <th>Delivery</th>\n",
       "      <td>4</td>\n",
       "      <td>4</td>\n",
       "      <td>4</td>\n",
       "      <td>4</td>\n",
       "      <td>4</td>\n",
       "      <td>4</td>\n",
       "      <td>4</td>\n",
       "      <td>4</td>\n",
       "      <td>4</td>\n",
       "      <td>4</td>\n",
       "    </tr>\n",
       "    <tr>\n",
       "      <th>Dine-out</th>\n",
       "      <td>6</td>\n",
       "      <td>6</td>\n",
       "      <td>6</td>\n",
       "      <td>6</td>\n",
       "      <td>6</td>\n",
       "      <td>6</td>\n",
       "      <td>6</td>\n",
       "      <td>6</td>\n",
       "      <td>6</td>\n",
       "      <td>6</td>\n",
       "    </tr>\n",
       "  </tbody>\n",
       "</table>\n",
       "</div>"
      ],
      "text/plain": [
       "           address  name  online_order  book_table  rate  votes  rest_type  \\\n",
       "meal_type                                                                    \n",
       "Cafes            3     3             3           3     3      3          3   \n",
       "Delivery         4     4             4           4     4      4          4   \n",
       "Dine-out         6     6             6           6     6      6          6   \n",
       "\n",
       "           cuisines  average_cost  locality  \n",
       "meal_type                                    \n",
       "Cafes             3             3         3  \n",
       "Delivery          4             4         4  \n",
       "Dine-out          6             6         6  "
      ]
     },
     "execution_count": 163,
     "metadata": {},
     "output_type": "execute_result"
    }
   ],
   "source": [
    "q2_d.groupby(['meal_type']).count()"
   ]
  },
  {
   "cell_type": "markdown",
   "metadata": {},
   "source": [
    "Grouping by meal type shows restaurant count for different meal types."
   ]
  },
  {
   "cell_type": "markdown",
   "metadata": {},
   "source": [
    "## 3.a \n",
    "- The inhand task we are solving is a supervised one, as we have labelled data in the data set.Moreover, since the target varaible is to find the average cost of dining of two people in a restaurant, so the model we intend to create can use various attributes like rating, location within the city, restraunt type etc to appropriately predict the target variable.\n",
    "- Secondly, since we have to qunatify the approximate cost of meal of two people. Therefore the in hand task will be a regression model which can predict the numerical value of the involved variables. \n",
    "- In terms of the similarity matching, in the given context since the target variable is to predict the ideal restraunt in terms of cost, so finding similar groups who can go to a particluar restraunt can be insighfull but it wont serve the prupose of addressing the target variable. hence similarity matching will not be used in the given context.\n",
    "\n"
   ]
  },
  {
   "cell_type": "code",
   "execution_count": 164,
   "metadata": {
    "collapsed": true
   },
   "outputs": [],
   "source": [
    "from sklearn import preprocessing\n",
    "label_encoder = preprocessing.LabelEncoder() \n",
    "one_hot=preprocessing.OneHotEncoder()\n",
    "from sklearn.model_selection import train_test_split\n"
   ]
  },
  {
   "cell_type": "code",
   "execution_count": 165,
   "metadata": {
    "collapsed": true
   },
   "outputs": [],
   "source": [
    "Y=ex['average_cost']\n",
    "ex['locality']= label_encoder.fit_transform(ex['locality'])\n",
    "from sklearn.preprocessing import MultiLabelBinarizer\n",
    "mlb = MultiLabelBinarizer()\n",
    "ex['cuisines']=ex.cuisines.str.split(\", \")"
   ]
  },
  {
   "cell_type": "code",
   "execution_count": 166,
   "metadata": {
    "collapsed": true
   },
   "outputs": [],
   "source": [
    "#ex['cuisines']=mlb.fit_transform(ex['cuisines'])\n",
    "ex['rest_type']=ex.rest_type.str.split(\", \")"
   ]
  },
  {
   "cell_type": "code",
   "execution_count": 167,
   "metadata": {
    "collapsed": true
   },
   "outputs": [],
   "source": [
    "ex1 = pd.DataFrame(mlb.fit_transform(ex['cuisines']),columns=mlb.classes_)\n",
    "ex2 = pd.DataFrame(mlb.fit_transform(ex['rest_type']),columns=mlb.classes_)\n"
   ]
  },
  {
   "cell_type": "code",
   "execution_count": 168,
   "metadata": {},
   "outputs": [
    {
     "data": {
      "text/plain": [
       "0                      [North Indian, Mughlai, Chinese]\n",
       "1                         [Chinese, North Indian, Thai]\n",
       "2                              [Cafe, Mexican, Italian]\n",
       "3                          [South Indian, North Indian]\n",
       "4                            [North Indian, Rajasthani]\n",
       "5                                        [North Indian]\n",
       "6         [North Indian, South Indian, Andhra, Chinese]\n",
       "7                                [Pizza, Cafe, Italian]\n",
       "8                          [Cafe, Italian, Continental]\n",
       "9            [Cafe, Mexican, Italian, Momos, Beverages]\n",
       "10                                               [Cafe]\n",
       "11                         [Cafe, Italian, Continental]\n",
       "12                [Cafe, Chinese, Continental, Italian]\n",
       "13                                  [Cafe, Continental]\n",
       "14                                               [Cafe]\n",
       "15       [Cafe, Fast Food, Continental, Chinese, Momos]\n",
       "16                             [Chinese, Cafe, Italian]\n",
       "17                            [Cafe, Italian, American]\n",
       "18                [Cafe, Chinese, Continental, Italian]\n",
       "19                         [Cafe, French, North Indian]\n",
       "20                  [Cafe, Pizza, Fast Food, Beverages]\n",
       "21                                    [Cafe, Fast Food]\n",
       "22                 [Italian, Fast Food, Cafe, European]\n",
       "23                                               [Cafe]\n",
       "24                                       [Cafe, Bakery]\n",
       "25                                 [Cafe, South Indian]\n",
       "26                         [Cafe, Fast Food, Beverages]\n",
       "27                                    [Cafe, Fast Food]\n",
       "28             [North Indian, Cafe, Chinese, Fast Food]\n",
       "29                                      [Cafe, Italian]\n",
       "                              ...                      \n",
       "12346             [North Indian, South Indian, Chinese]\n",
       "12347                                         [Chinese]\n",
       "12348                                    [North Indian]\n",
       "12349                         [South Indian, Fast Food]\n",
       "12350                           [Chinese, North Indian]\n",
       "12351              [North Indian, Chinese, Continental]\n",
       "12352                          [Street Food, Fast Food]\n",
       "12353                                    [South Indian]\n",
       "12354                                    [South Indian]\n",
       "12355                           [South Indian, Chinese]\n",
       "12356                                     [Street Food]\n",
       "12357                           [North Indian, Chinese]\n",
       "12358                                [Chinese, Mughlai]\n",
       "12359                                [Biryani, Chinese]\n",
       "12360                  [Arabian, Chinese, North Indian]\n",
       "12361                                         [Arabian]\n",
       "12362                                [Fast Food, Rolls]\n",
       "12363                           [North Indian, Chinese]\n",
       "12364                                    [North Indian]\n",
       "12365                                         [Italian]\n",
       "12366                                     [Finger Food]\n",
       "12367          [Finger Food, North Indian, Continental]\n",
       "12368                                  [Chinese, Momos]\n",
       "12369           [North Indian, Chinese, Arabian, Momos]\n",
       "12370                            [Thai, Chinese, Momos]\n",
       "12371                                    [North Indian]\n",
       "12372                [North Indian, Continental, Asian]\n",
       "12373                   [North Indian, Kerala, Chinese]\n",
       "12374     [Andhra, South Indian, Chinese, North Indian]\n",
       "12375                                     [Finger Food]\n",
       "Name: cuisines, Length: 12376, dtype: object"
      ]
     },
     "execution_count": 168,
     "metadata": {},
     "output_type": "execute_result"
    }
   ],
   "source": [
    "ex['cuisines']"
   ]
  },
  {
   "cell_type": "code",
   "execution_count": 169,
   "metadata": {
    "collapsed": true
   },
   "outputs": [],
   "source": [
    "X=pd.concat([ex[['rate','locality']], ex1,ex2], axis=1)"
   ]
  },
  {
   "cell_type": "code",
   "execution_count": 170,
   "metadata": {
    "collapsed": true
   },
   "outputs": [],
   "source": [
    "X = X.loc[:,~X.columns.duplicated()]  \n"
   ]
  },
  {
   "cell_type": "code",
   "execution_count": 171,
   "metadata": {
    "collapsed": true
   },
   "outputs": [],
   "source": [
    "X_train, X_test, y_train, y_test = train_test_split(X, Y, test_size=0.3, random_state=42)"
   ]
  },
  {
   "cell_type": "markdown",
   "metadata": {},
   "source": [
    "## 3.b\n",
    "To implement the task of estimating the cost, we have strategised four models. These models have been implemented as an individually and then the accuracies of each model have been determined and compared. this ultimately helped us pinpoint the best model that fits the data perfectly. Models have been created for each approach as following:\n",
    "\n",
    "## 3.c MODEL EVALUATION METRICS-\n",
    "- For metricizing the accuracy of various models we have choosen coefficient of determination( r2 score) metrics for model evaluation.Now here ,minimum score can be of 1. but here when the model does not take into consideration any input parameter, the r2 score is 0. With each respective model, the values have been correspondingly shown in the output cell reletive to it.\n",
    "\n",
    "- Second metric that we have used is the root mean square(RMS) value which gives the under root of the variance of residuals. It describe the absolute fit of model w.r.t data and the nearness of the seen data points to the predicted model.With each respective model, the values have been correspondingly shown in the output cell reletive to it. Here, we have not quantified the rms error to be in its ideal range. Hence, we we have taken just a general estimate of how this metric will be able to judje the model's accuracy characteristics."
   ]
  },
  {
   "cell_type": "markdown",
   "metadata": {},
   "source": [
    "#### DECISION TREE REGRESSOR-\n",
    "- The decision tree regressor basically fits a mathematical sine curve along with additional outliers observation. Hence, the model learns the local linear regression from approximation provided by the sine curve. \n",
    "- Secondly, we can obserbe that for the max depth of the tree(max_depth parameter) is kept very high, the tree overfits(because it learns very fine details of the training data and also from the noise). \n",
    "\n"
   ]
  },
  {
   "cell_type": "code",
   "execution_count": 172,
   "metadata": {},
   "outputs": [
    {
     "name": "stdout",
     "output_type": "stream",
     "text": [
      "Decision Tree Regressor-\n",
      "r_2 testing and training metric:\n",
      "Testing accuracy is=\n",
      "0.7197053066027574\n",
      "Training accuracy is=\n",
      "0.8051509196619485\n",
      "RMS testing and training metric:\n",
      "Testing accuracy is=\n",
      "207.40537393137066\n",
      "Training accuracy is=\n",
      "172.84344839194597\n"
     ]
    }
   ],
   "source": [
    "from sklearn import tree\n",
    "clf = tree.DecisionTreeClassifier()\n",
    "from sklearn.tree import DecisionTreeRegressor  \n",
    "from sklearn.metrics import r2_score\n",
    "from sklearn.metrics import mean_squared_error\n",
    "from math import sqrt\n",
    "\n",
    "treemodel = DecisionTreeRegressor(random_state = 0,max_depth=10,min_impurity_decrease=70)  \n",
    "treemodel=treemodel.fit(X_train, y_train) \n",
    "y_pred = treemodel.predict(X_test)\n",
    "print(\"Decision Tree Regressor-\")\n",
    "print(\"r_2 testing and training metric:\")\n",
    "print(\"Testing accuracy is=\")\n",
    "print(r2_score(y_test, y_pred))\n",
    "print(\"Training accuracy is=\")\n",
    "print(r2_score(y_train, treemodel.predict(X_train)))\n",
    "\n",
    "print(\"RMS testing and training metric:\")\n",
    "print(\"Testing accuracy is=\")\n",
    "print( sqrt(mean_squared_error(y_test, y_pred)))\n",
    "print(\"Training accuracy is=\")\n",
    "print(sqrt(mean_squared_error(y_train, treemodel.predict(X_train))))\n",
    "\n"
   ]
  },
  {
   "cell_type": "markdown",
   "metadata": {},
   "source": [
    "#### LINEAR REGRESSION MODEL-\n",
    "Since the linear regression helps finding relation in two variable.So, The second model we used was linear regression  where we used the method of least squares. Here the best fitting line for the given data was calculated by taking the minimum of sum of squares of vertical changes form every point of data to the line splitting the data.This was the main reson why we choose this model to predict the target variable.\n",
    "\n"
   ]
  },
  {
   "cell_type": "code",
   "execution_count": 173,
   "metadata": {},
   "outputs": [
    {
     "name": "stdout",
     "output_type": "stream",
     "text": [
      "Linear Regression-\n",
      "r_2 testing and training metric:\n",
      "Testing accuracy is=\n",
      "0.7273404250136796\n",
      "Training accuracy is=\n",
      "0.7357617027193442\n",
      "RMS testing and training metric:\n",
      "Testing accuracy is=\n",
      "207.40537393137066\n",
      "Training accuracy is=\n",
      "201.28046321725284\n"
     ]
    }
   ],
   "source": [
    "from sklearn.linear_model import LinearRegression\n",
    "linmodel=LinearRegression()\n",
    "linmodel.fit(X_train,y_train)\n",
    "y_reg_predict=linmodel.predict(X_test)\n",
    "print(\"Linear Regression-\")\n",
    "print(\"r_2 testing and training metric:\")\n",
    "print(\"Testing accuracy is=\")\n",
    "print(r2_score(y_test, y_reg_predict))\n",
    "print(\"Training accuracy is=\")\n",
    "print(r2_score(y_train, linmodel.predict(X_train)))\n",
    "\n",
    "print(\"RMS testing and training metric:\")\n",
    "print(\"Testing accuracy is=\")\n",
    "print( sqrt(mean_squared_error(y_test, y_pred)))\n",
    "print(\"Training accuracy is=\")\n",
    "print(sqrt(mean_squared_error(y_train, linmodel.predict(X_train))))\n"
   ]
  },
  {
   "cell_type": "markdown",
   "metadata": {},
   "source": [
    "#### RANDOM FOREST REGRESSOR-\n",
    "In this, we simply made use of bagging to train each decision tree of the data sub-sample and correspondingly the replacemnts were made with every iteration. So we fit a number of various decision trees and made use of averaging to enhance predictive accuracy and reduce any overfitting. This was the reason randon forest regressor was choosen as one of the model for the purpose."
   ]
  },
  {
   "cell_type": "code",
   "execution_count": 174,
   "metadata": {},
   "outputs": [
    {
     "name": "stdout",
     "output_type": "stream",
     "text": [
      "Random Forest Regressor-\n",
      "r_2 testing and training metric:\n",
      "Testing accuracy is=\n",
      "0.7590181971761176\n",
      "Training accuracy is=\n",
      "0.9555772454909043\n",
      "RMS testing and training metric:\n",
      "Testing accuracy is=\n",
      "192.31125037861779\n",
      "Training accuracy is=\n",
      "82.5289812726249\n"
     ]
    }
   ],
   "source": [
    "from sklearn.ensemble import RandomForestRegressor\n",
    "ranmodel = RandomForestRegressor(n_estimators=40, random_state=0)  \n",
    "ranmodel.fit(X_train, y_train)  \n",
    "y_pred = ranmodel.predict(X_test)\n",
    "print(\"Random Forest Regressor-\")\n",
    "print(\"r_2 testing and training metric:\")\n",
    "print(\"Testing accuracy is=\")\n",
    "print(r2_score(y_test, y_pred))\n",
    "print(\"Training accuracy is=\")\n",
    "print(r2_score(y_train, ranmodel.predict(X_train)))\n",
    "\n",
    "print(\"RMS testing and training metric:\")\n",
    "print(\"Testing accuracy is=\")\n",
    "print( sqrt(mean_squared_error(y_test, y_pred)))\n",
    "print(\"Training accuracy is=\")\n",
    "print(sqrt(mean_squared_error(y_train, ranmodel.predict(X_train))))"
   ]
  },
  {
   "cell_type": "markdown",
   "metadata": {},
   "source": [
    "#### XG BOOST-\n",
    "we implemented this machine learning technique under gradient boosting framework. Since it provides with parallel tree boosting, it is accurate and fast at the same time.Moreover, its an optimisd version of gradient boosting library which makes it highly flexible,portable and efficient. Thus, we have decided to stick on with the xg-boost model , since in terms of accuracy and efficiency to work eg-boost shows the best results."
   ]
  },
  {
   "cell_type": "code",
   "execution_count": 175,
   "metadata": {},
   "outputs": [
    {
     "name": "stdout",
     "output_type": "stream",
     "text": [
      "[23:39:25] WARNING: C:/Jenkins/workspace/xgboost-win64_release_0.90/src/objective/regression_obj.cu:152: reg:linear is now deprecated in favor of reg:squarederror.\n"
     ]
    },
    {
     "name": "stderr",
     "output_type": "stream",
     "text": [
      "c:\\users\\aakash patel\\appdata\\local\\programs\\python\\python37\\lib\\site-packages\\xgboost\\core.py:587: FutureWarning: Series.base is deprecated and will be removed in a future version\n",
      "  if getattr(data, 'base', None) is not None and \\\n"
     ]
    },
    {
     "name": "stdout",
     "output_type": "stream",
     "text": [
      "XGBoost Regressor-\n",
      "r_2 testing and training metric:\n",
      "Testing accuracy is=\n",
      "0.7804915380213014\n",
      "Training accuracy is=\n",
      "0.8592333218114218\n",
      "RMS testing and training metric:\n",
      "Testing accuracy is=\n",
      "183.54315827759189\n",
      "Training accuracy is=\n",
      "146.91078294915712\n"
     ]
    }
   ],
   "source": [
    "import xgboost\n",
    "xgbmodel =  xgboost.XGBRegressor(colsample_bytree=0.3,\n",
    "                 gamma=0,                 \n",
    "                 learning_rate=0.08,\n",
    "                 max_depth=12,\n",
    "                 min_child_weight=1.5,\n",
    "                 n_estimators=100,                                                                    \n",
    "                 reg_alpha=10,\n",
    "                 reg_lambda=0.45,\n",
    "                 subsample=0.6,\n",
    "                 seed=42)\n",
    "xgbmodel.fit(X_train,y_train)\n",
    "y_pred = xgbmodel.predict(X_test)\n",
    "print(\"XGBoost Regressor-\")\n",
    "print(\"r_2 testing and training metric:\")\n",
    "print(\"Testing accuracy is=\")\n",
    "print(r2_score(y_test, y_pred))\n",
    "print(\"Training accuracy is=\")\n",
    "print(r2_score(y_train, xgbmodel.predict(X_train)))\n",
    "\n",
    "print(\"RMS testing and training metric:\")\n",
    "print(\"Testing accuracy is=\")\n",
    "print( sqrt(mean_squared_error(y_test, y_pred)))\n",
    "print(\"Training accuracy is=\")\n",
    "print(sqrt(mean_squared_error(y_train, xgbmodel.predict(X_train))))\n"
   ]
  },
  {
   "cell_type": "markdown",
   "metadata": {},
   "source": [
    "## 3.d. AVOIDING OVERFITTING:\n",
    "\n",
    "**DECISION TREE REGRESSOR**: overfitting can be prevented pre pruning( and post pruning.\n",
    "Pre-pruning implies to stop growing the tree earlier, before it perfectly classifies the training set.\n",
    "Post-pruning works by allowing the tree to perfectly classify the training set, and then post prune the tree. \n",
    "\n",
    "**LINEAR REGRESSION**: Here the overfitting can be prevented by the method of cross validation where a simple generalised estimate is made over a small data set(holdout data) and then for all the other data sets the results are evaluated and by multiple splits made across the data). the exact implementation has been done in 3.g part.\n",
    "\n",
    "**RANDOM FOREST REGRESSOR**- In random forest tuming parameters could be done to avoid overfitting. In our case, making use of parameters that are not compatable with the null values must be selected to prevent the model to overfit.\n",
    "\n",
    "**XG-BOOST**:\n",
    "Early Stopping: It prevents overfitting by trying to automatically pick the inflection point where performance on the test dataset begins to reduce whereas performance on the training dataset keep on improving as the model begin to overfit. Now cross validation can also be done to avoid overfitting in xg-boost. It has been implemented as follows.\n",
    "\n",
    "\n",
    "\n",
    "\n",
    "\n",
    "\n",
    "\n",
    "\n"
   ]
  },
  {
   "cell_type": "markdown",
   "metadata": {},
   "source": [
    "## 3.e. CROSS VALIDATION"
   ]
  },
  {
   "cell_type": "code",
   "execution_count": 176,
   "metadata": {},
   "outputs": [
    {
     "name": "stdout",
     "output_type": "stream",
     "text": [
      "[23:39:34] WARNING: C:/Jenkins/workspace/xgboost-win64_release_0.90/src/objective/regression_obj.cu:152: reg:linear is now deprecated in favor of reg:squarederror.\n"
     ]
    },
    {
     "name": "stderr",
     "output_type": "stream",
     "text": [
      "c:\\users\\aakash patel\\appdata\\local\\programs\\python\\python37\\lib\\site-packages\\xgboost\\core.py:587: FutureWarning: Series.base is deprecated and will be removed in a future version\n",
      "  if getattr(data, 'base', None) is not None and \\\n",
      "c:\\users\\aakash patel\\appdata\\local\\programs\\python\\python37\\lib\\site-packages\\xgboost\\core.py:587: FutureWarning: Series.base is deprecated and will be removed in a future version\n",
      "  if getattr(data, 'base', None) is not None and \\\n"
     ]
    },
    {
     "name": "stdout",
     "output_type": "stream",
     "text": [
      "[23:39:41] WARNING: C:/Jenkins/workspace/xgboost-win64_release_0.90/src/objective/regression_obj.cu:152: reg:linear is now deprecated in favor of reg:squarederror.\n"
     ]
    },
    {
     "name": "stderr",
     "output_type": "stream",
     "text": [
      "c:\\users\\aakash patel\\appdata\\local\\programs\\python\\python37\\lib\\site-packages\\xgboost\\core.py:587: FutureWarning: Series.base is deprecated and will be removed in a future version\n",
      "  if getattr(data, 'base', None) is not None and \\\n"
     ]
    },
    {
     "name": "stdout",
     "output_type": "stream",
     "text": [
      "[23:39:48] WARNING: C:/Jenkins/workspace/xgboost-win64_release_0.90/src/objective/regression_obj.cu:152: reg:linear is now deprecated in favor of reg:squarederror.\n",
      "Performing Cross Validation on XGBoost Model:\n",
      "Accuracy: Final mean:75.647%, Final standard deviation:(1.094%)\n",
      "Accuracies from each of the folds using kfold: [0.75831316 0.74224542 0.76884321]\n",
      "Variance of kfold accuracies: 0.00011961078109060164\n"
     ]
    },
    {
     "data": {
      "image/png": "[encoded data removed]",
      "text/plain": [
       "<Figure size 432x288 with 1 Axes>"
      ]
     },
     "metadata": {
      "needs_background": "light"
     },
     "output_type": "display_data"
    }
   ],
   "source": [
    "from sklearn import model_selection\n",
    "from sklearn.model_selection import GridSearchCV\n",
    "results = model_selection.cross_val_score(xgbmodel, X, Y, cv=3)\n",
    "print(\"Performing Cross Validation on XGBoost Model:\")\n",
    "print(\"Accuracy: Final mean:%.3f%%, Final standard deviation:(%.3f%%)\" % (results.mean()*100.0, results.std()*100.0))\n",
    "print('Accuracies from each of the folds using kfold:',results)\n",
    "print(\"Variance of kfold accuracies:\",results.var())\n",
    "objects = (['1', '2', '3'])\n",
    "y_pos = np.arange(len(objects))\n",
    "plt.bar(y_pos, results, align='center', alpha=1.0)\n",
    "plt.xticks(y_pos, objects)\n",
    "plt.ylabel('Fold Accuracy')\n",
    "plt.xlabel('Folds')\n",
    "plt.title('XG Boost Cross Validation ')\n",
    "plt.show()"
   ]
  },
  {
   "cell_type": "code",
   "execution_count": 177,
   "metadata": {},
   "outputs": [
    {
     "name": "stdout",
     "output_type": "stream",
     "text": [
      "Performing Cross Validation on Tree Model:\n",
      "Accuracy: Final mean:69.502%, Final standard deviation:(0.972%)\n",
      "Accuracies from each of the folds using kfold: [0.70159013 0.68128827 0.70219375]\n",
      "Variance of kfold accuracies: 9.439660903321898e-05\n"
     ]
    },
    {
     "data": {
      "image/png": "[encoded data removed]",
      "text/plain": [
       "<Figure size 432x288 with 1 Axes>"
      ]
     },
     "metadata": {
      "needs_background": "light"
     },
     "output_type": "display_data"
    }
   ],
   "source": [
    "results = model_selection.cross_val_score(treemodel, X, Y, cv=3)\n",
    "print(\"Performing Cross Validation on Tree Model:\")\n",
    "print(\"Accuracy: Final mean:%.3f%%, Final standard deviation:(%.3f%%)\" % (results.mean()*100.0, results.std()*100.0))\n",
    "print('Accuracies from each of the folds using kfold:',results)\n",
    "print(\"Variance of kfold accuracies:\",results.var())\n",
    "\n",
    "objects = (['1', '2', '3'])\n",
    "y_pos = np.arange(len(objects))\n",
    "plt.bar(y_pos, results, align='center', alpha=1.0)\n",
    "plt.xticks(y_pos, objects)\n",
    "plt.ylabel('Fold Accuracy')\n",
    "plt.xlabel('Folds')\n",
    "plt.title('Tree Model Cross Validation ')\n",
    "\n",
    "plt.show()"
   ]
  },
  {
   "cell_type": "code",
   "execution_count": 178,
   "metadata": {},
   "outputs": [
    {
     "name": "stdout",
     "output_type": "stream",
     "text": [
      "Performing Cross Validation on Random Forest Model:\n",
      "Accuracy: Final mean:74.026%, Final standard deviation:(1.651%)\n",
      "Accuracies from each of the folds using kfold: [0.74156313 0.71941552 0.75979123]\n",
      "Variance of kfold accuracies: 0.000272553060875498\n"
     ]
    },
    {
     "data": {
      "image/png": "[encoded data removed]",
      "text/plain": [
       "<Figure size 432x288 with 1 Axes>"
      ]
     },
     "metadata": {
      "needs_background": "light"
     },
     "output_type": "display_data"
    }
   ],
   "source": [
    "results = model_selection.cross_val_score(ranmodel, X, Y, cv=3)\n",
    "print(\"Performing Cross Validation on Random Forest Model:\")\n",
    "print(\"Accuracy: Final mean:%.3f%%, Final standard deviation:(%.3f%%)\" % (results.mean()*100.0, results.std()*100.0))\n",
    "print('Accuracies from each of the folds using kfold:',results)\n",
    "print(\"Variance of kfold accuracies:\",results.var())\n",
    "objects = (['1', '2', '3'])\n",
    "y_pos = np.arange(len(objects))\n",
    "plt.bar(y_pos, results, align='center', alpha=1.0)\n",
    "plt.xticks(y_pos, objects)\n",
    "plt.ylabel('Fold Accuracy')\n",
    "plt.xlabel('Folds')\n",
    "plt.title('Random Forest Cross Validation ')\n",
    "plt.show()"
   ]
  },
  {
   "cell_type": "code",
   "execution_count": 179,
   "metadata": {},
   "outputs": [
    {
     "name": "stdout",
     "output_type": "stream",
     "text": [
      "Performing Cross Validation on Linear regression Model:\n",
      "Accuracy: Final mean:-604111003090254954496.000%, Final standard deviation:(854341973749053259776.000%)\n",
      "Accuracies from each of the folds using kfold: [-1.81233301e+19  6.90278028e-01  7.25571902e-01]\n",
      "Variance of kfold accuracies: 7.299002081094279e+37\n"
     ]
    },
    {
     "data": {
      "image/png": "[encoded data removed]",
      "text/plain": [
       "<Figure size 432x288 with 1 Axes>"
      ]
     },
     "metadata": {
      "needs_background": "light"
     },
     "output_type": "display_data"
    }
   ],
   "source": [
    "results = model_selection.cross_val_score(linmodel, X, Y, cv=3)\n",
    "print(\"Performing Cross Validation on Linear regression Model:\")\n",
    "print(\"Accuracy: Final mean:%.3f%%, Final standard deviation:(%.3f%%)\" % (results.mean()*100.0, results.std()*100.0))\n",
    "print('Accuracies from each of the folds using kfold:',results)\n",
    "print(\"Variance of kfold accuracies:\",results.var())\n",
    "objects = (['1','2', '3'])\n",
    "y_pos = np.arange(len(objects))\n",
    "plt.bar(y_pos, results, align='center', alpha=1.0)\n",
    "plt.xticks(y_pos, objects)\n",
    "plt.ylabel('Fold Accuracy')\n",
    "plt.xlabel('Folds')\n",
    "plt.title('Linear regression Cross Validation ')\n",
    "plt.show()"
   ]
  },
  {
   "cell_type": "markdown",
   "metadata": {},
   "source": [
    "Variance of linear model is significantly high. Rest all three are not too high. Since it provides with parallel tree boosting, it is accurate and fast at the same time.Moreover, its an optimisd version of gradient boosting library which makes it highly flexible,portable and efficient. Thus, we have decided to stick on with the xg-boost model , since in terms of accuracy and efficiency to work xgboost shows the best results.Thus best model is to choose is XGBoost."
   ]
  },
  {
   "cell_type": "markdown",
   "metadata": {},
   "source": [
    "## 3.f. Testing Training Performance comparison"
   ]
  },
  {
   "cell_type": "code",
   "execution_count": 180,
   "metadata": {},
   "outputs": [
    {
     "name": "stderr",
     "output_type": "stream",
     "text": [
      "c:\\users\\aakash patel\\appdata\\local\\programs\\python\\python37\\lib\\site-packages\\xgboost\\core.py:587: FutureWarning: Series.base is deprecated and will be removed in a future version\n",
      "  if getattr(data, 'base', None) is not None and \\\n"
     ]
    },
    {
     "name": "stdout",
     "output_type": "stream",
     "text": [
      "[23:40:06] WARNING: C:/Jenkins/workspace/xgboost-win64_release_0.90/src/objective/regression_obj.cu:152: reg:linear is now deprecated in favor of reg:squarederror.\n",
      "XGBoost Model-\n",
      "Testing accuracy is=\n",
      "0.7804915380213014\n",
      "Training accuracy is=\n",
      "0.8592333218114218\n"
     ]
    },
    {
     "data": {
      "image/png": "[encoded data removed]",
      "text/plain": [
       "<Figure size 432x288 with 1 Axes>"
      ]
     },
     "metadata": {
      "needs_background": "light"
     },
     "output_type": "display_data"
    }
   ],
   "source": [
    "from sklearn.model_selection import learning_curve\n",
    "xgbmodel.fit(X_train,y_train)\n",
    "y_pred = xgbmodel.predict(X_test)\n",
    "print(\"XGBoost Model-\")\n",
    "print(\"Testing accuracy is=\")\n",
    "print(r2_score(y_test, y_pred))\n",
    "print(\"Training accuracy is=\")\n",
    "print(r2_score(y_train, xgbmodel.predict(X_train)))\n",
    "\n",
    "train_sizes, train_scores, test_scores = learning_curve(\n",
    "        xgbmodel, X, Y, cv=10, n_jobs=-1)\n",
    "                                                       \n",
    "# Create means and standard deviations of training set scores\n",
    "train_mean = np.mean(train_scores, axis=1)\n",
    "train_std = np.std(train_scores, axis=1)\n",
    "\n",
    "# Create means and standard deviations of test set scores\n",
    "test_mean = np.mean(test_scores, axis=1)\n",
    "test_std = np.std(test_scores, axis=1)\n",
    "\n",
    "# Draw lines\n",
    "plt.plot(train_sizes, train_mean, '--', color=\"#111111\",  label=\"Training score\")\n",
    "plt.plot(train_sizes, test_mean, color=\"#111111\", label=\"Validation score\")\n",
    "\n",
    "# Draw bands\n",
    "plt.fill_between(train_sizes, train_mean - train_std, train_mean + train_std, color=\"#DDDDDD\")\n",
    "plt.fill_between(train_sizes, test_mean - test_std, test_mean + test_std, color=\"#DDDDDD\")\n",
    "\n",
    "# Create plot\n",
    "plt.title(\"Learning Curve\")\n",
    "plt.xlabel(\"Training Set Size\"), plt.ylabel(\"Accuracy Score\"), plt.legend(loc=\"best\")\n",
    "plt.tight_layout()\n",
    "plt.show()"
   ]
  },
  {
   "cell_type": "markdown",
   "metadata": {},
   "source": [
    "Testing performance of XGBoost Regressor is best among all the tried regression models. Comparing the performance of trainining and testing data in the learning curve we see that accuracy of testing gradually improves as training size increases.But as the training set size becomes 400 their is almost no growth and graph is linear. In the training score however, the accuracy is highest initially and doesn't show any growth as the training set size increases. "
   ]
  },
  {
   "cell_type": "markdown",
   "metadata": {},
   "source": [
    "## 3.g. Parameter Tuning for XGBoost Model"
   ]
  },
  {
   "cell_type": "code",
   "execution_count": 181,
   "metadata": {
    "scrolled": false
   },
   "outputs": [
    {
     "name": "stderr",
     "output_type": "stream",
     "text": [
      "c:\\users\\aakash patel\\appdata\\local\\programs\\python\\python37\\lib\\site-packages\\sklearn\\model_selection\\_split.py:1978: FutureWarning: The default value of cv will change from 3 to 5 in version 0.22. Specify it explicitly to silence this warning.\n",
      "  warnings.warn(CV_WARNING, FutureWarning)\n",
      "c:\\users\\aakash patel\\appdata\\local\\programs\\python\\python37\\lib\\site-packages\\xgboost\\core.py:587: FutureWarning: Series.base is deprecated and will be removed in a future version\n",
      "  if getattr(data, 'base', None) is not None and \\\n"
     ]
    },
    {
     "name": "stdout",
     "output_type": "stream",
     "text": [
      "[23:44:35] WARNING: C:/Jenkins/workspace/xgboost-win64_release_0.90/src/objective/regression_obj.cu:152: reg:linear is now deprecated in favor of reg:squarederror.\n",
      "0.7528925171082093\n",
      "{'colsample_bytree': 0.3, 'learning_rate': 0.12, 'max_depth': 7, 'min_samples_split': 8, 'n_estimators': 70}\n"
     ]
    }
   ],
   "source": [
    "param_grid = {\n",
    "    'max_depth': [4, 6, 7],\n",
    "'colsample_bytree': [0.3, 0.2],\n",
    "    'learning_rate': [0.07,0.12],\n",
    "    'min_samples_split': [8, 10, 12],\n",
    "    'n_estimators': [100, 70]\n",
    "}\n",
    "grid_clf_acc = GridSearchCV(estimator=xgbmodel, param_grid = param_grid,n_jobs=-1)\n",
    "grid_clf_acc.fit(X_train, y_train)\n",
    "grid_clf_acc.best_score_\n",
    "print(grid_clf_acc.best_score_)\n",
    "print(grid_clf_acc.best_params_ )"
   ]
  },
  {
   "cell_type": "markdown",
   "metadata": {},
   "source": [
    "To perform parameter tuning we provided we used GridSearchCV technique. It basically needs to be provided with parameter grid. Grid contains different parameters which impact model performance. There are different values provided for each parameter. This technique checks different combination of parameter values and generates best parameter value for each parameter (which will result in highest accuracy). Here as per output best score of 75% accuracy is achieved with different provided values of parameters. Values depicted show best values among their respective provided list.\n",
    "\n",
    "The reason why it will improve the accuracy is because, it gives the best possible value of all attributes. As the number of provided attributes increases along with provided possiblities, one can determine which attribute to tweak to achieve good accuracy. As it increasingly time complex, results take quite a while to get displayed. Hence we have not tweaked the parameters further."
   ]
  },
  {
   "cell_type": "code",
   "execution_count": 182,
   "metadata": {
    "collapsed": true
   },
   "outputs": [],
   "source": [
    "# param_grid = {\n",
    "#     'colsample_bytree':[0.3, 0.2],\n",
    "#                  'gamma':[0,1],                 \n",
    "#                  'learning_rate':[0.08,0.12],\n",
    "#                  'max_depth':[12,7],\n",
    "#                  'min_child_weight':[1.5, 2],\n",
    "#                  'n_estimators':[100,70],                                                                    \n",
    "#                  'reg_alpha':[10,12],\n",
    "#                  'reg_lambda':[0.45,0.40],\n",
    "#                  'subsample':[0.6,0.4],\n",
    "#                  'seed':[42, 45]\n",
    "# }\n",
    "# grid_clf_acc = GridSearchCV(estimator=xgbmodel, param_grid = param_grid,n_jobs=-1)\n",
    "# grid_clf_acc.fit(X_train, y_train)\n",
    "# grid_clf_acc.best_score_\n",
    "# print(grid_clf_acc.best_score_)\n",
    "# print(grid_clf_acc.best_params_ )"
   ]
  },
  {
   "cell_type": "markdown",
   "metadata": {},
   "source": [
    "Above performed GridSearch Parameter Tuning would take more than stipulated time to run and but, as it logically follows, this technique of GRidSearchCV will immensely improve the performance. "
   ]
  },
  {
   "cell_type": "markdown",
   "metadata": {},
   "source": [
    "**REFERENCES:**\n",
    "- https://machinelearningmastery.com/avoid-overfitting-by-early-stopping-with-xgboost-in-python/\n",
    "- https://www.saedsayad.com/decision_tree_overfitting.htm\n",
    "- https://stackoverflow.com/questions/43579180/feature-names-must-be-unique-xgboost?noredirect=1&lq=1\n",
    "- https://towardsdatascience.com/hyperparameter-tuning-the-random-forest-in-python-using-scikit-learn-28d2aa77dd74\n",
    "- https://pythonspot.com/matplotlib-bar-chart/\n",
    "- https://chrisalbon.com/machine_learning/model_evaluation/plot_the_learning_curve/\n",
    "- https://scikit-learn.org/stable/auto_examples/model_selection/plot_learning_curve.html"
   ]
  }
 ],
 "metadata": {
  "kernelspec": {
   "display_name": "Python 3",
   "language": "python",
   "name": "python3"
  },
  "language_info": {
   "codemirror_mode": {
    "name": "ipython",
    "version": 3
   },
   "file_extension": ".py",
   "mimetype": "text/x-python",
   "name": "python",
   "nbconvert_exporter": "python",
   "pygments_lexer": "ipython3",
   "version": "3.7.2"
  }
 },
 "nbformat": 4,
 "nbformat_minor": 2
}
